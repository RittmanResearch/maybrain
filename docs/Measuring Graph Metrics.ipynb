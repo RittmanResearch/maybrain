{
 "cells": [
  {
   "cell_type": "markdown",
   "metadata": {},
   "source": [
    "# Measuring Graph Metrics\n",
    "\n",
    "Maybrain is based on the [NetworkX package](https://networkx.github.io/)), which provides already a wide range of network measures. These can be accessed as part of the brainObj module, where NetworkX is imported as `nx`. \n",
    "\n",
    "For example:"
   ]
  },
  {
   "cell_type": "code",
   "execution_count": null,
   "metadata": {},
   "outputs": [],
   "source": [
    "from maybrain import brainObj as mbt\n",
    "from maybrain import plotObj as mbp\n",
    "from mayavi import mlab\n",
    "a = mbt.brainObj()\n",
    "a.importAdjFile(\"data/mean_500.txt\", delimiter=\",\")\n",
    "a.importSpatialInfo(\"data/parcel_500.txt\")\n",
    "a.applyThreshold()\n",
    "\n",
    "#Getting the degree of every node\n",
    "degs = mbt.nx.degree(a.G)"
   ]
  },
  {
   "cell_type": "markdown",
   "metadata": {},
   "source": [
    "Results can be written to a file using the extraFns module:"
   ]
  },
  {
   "cell_type": "code",
   "execution_count": null,
   "metadata": {},
   "outputs": [],
   "source": [
    "from maybrain import extraFns\n",
    "extraFns.writeResults(degs, \"degree\")"
   ]
  },
  {
   "cell_type": "markdown",
   "metadata": {},
   "source": [
    "Alternatively, maybrain can be used with the pythonic version of the [brain connectivity toolbox](https://sites.google.com/site/bctnet/) which can be found [here](https://github.com/aestrivex/bctpy). For this, the graph needs its adjacency matrix to be saved in a specific format:"
   ]
  },
  {
   "cell_type": "code",
   "execution_count": null,
   "metadata": {
    "collapsed": true
   },
   "outputs": [],
   "source": [
    "a.makebctmat()"
   ]
  },
  {
   "cell_type": "markdown",
   "metadata": {},
   "source": [
    "Functions can then be called on the resulting matrix:"
   ]
  },
  {
   "cell_type": "code",
   "execution_count": null,
   "metadata": {
    "collapsed": true
   },
   "outputs": [],
   "source": [
    "import bct\n",
    "ci = bct.modularity_louvain_und(a.bctmat) # calculate the Louvain modularity"
   ]
  },
  {
   "cell_type": "markdown",
   "metadata": {},
   "source": [
    "To write these results to a file, they must first be assigned to their respective nodes:"
   ]
  },
  {
   "cell_type": "code",
   "execution_count": null,
   "metadata": {
    "collapsed": true
   },
   "outputs": [],
   "source": [
    "ciOut = a.assignbctResult(ci[0]) # in this case the modularity results come in two arrays, of which we need only the first\n",
    "extras.writeResults(ciOut, \"ci\")"
   ]
  }
 ],
 "metadata": {
  "kernelspec": {
   "display_name": "Python 3",
   "language": "python",
   "name": "python3"
  },
  "language_info": {
   "codemirror_mode": {
    "name": "ipython",
    "version": 3
   },
   "file_extension": ".py",
   "mimetype": "text/x-python",
   "name": "python",
   "nbconvert_exporter": "python",
   "pygments_lexer": "ipython3",
   "version": "3.5.4"
  }
 },
 "nbformat": 4,
 "nbformat_minor": 2
}
