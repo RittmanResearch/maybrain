{
 "cells": [
  {
   "cell_type": "markdown",
   "metadata": {},
   "source": [
    "# The `utils` Package\n",
    "\n",
    "As the name says, this package brings some extra functionalities that you might need while using Maybrain.\n",
    "\n",
    "Let's start by importing it and initialising a Brain:"
   ]
  },
  {
   "cell_type": "code",
   "execution_count": 1,
   "metadata": {},
   "outputs": [],
   "source": [
    "from maybrain import utils\n",
    "from maybrain import resources as rr\n",
    "from maybrain import brain as mbt\n",
    "\n",
    "a = mbt.Brain()\n",
    "a.import_adj_file(rr.DUMMY_ADJ_FILE_500)\n",
    "a.import_spatial_info(rr.MNI_SPACE_COORDINATES_500)\n",
    "a.apply_threshold()"
   ]
  },
  {
   "cell_type": "markdown",
   "metadata": {},
   "source": [
    "## Information about Percentages\n",
    "\n",
    "Imagine that you want to know what would be the ratio between the edges on `adjMat` above a certain threshold value and the total possible edges of `adjMat` (the ones different from `nan`). This might be useful for you to decide which threshold you might apply later.\n",
    "\n",
    "In our specific matrix, we can verify that we have 124750 possible edges in `adjMat`, and if we applied a threshold of 0.6, we would get 3387 edges:"
   ]
  },
  {
   "cell_type": "code",
   "execution_count": 2,
   "metadata": {},
   "outputs": [
    {
     "name": "stdout",
     "output_type": "stream",
     "text": [
      "Ratio: 0.027150300601202406\n",
      "Total possible edges:  124750\n",
      "Number of edges from a threshold of 0.6:  3387\n",
      "(3387/124750 =  0.027150300601202406 )\n"
     ]
    }
   ],
   "source": [
    "print(\"Ratio:\", utils.threshold_to_percentage(a, 0.6))\n",
    "\n",
    "## Checking the previous result\n",
    "# Creating all possible edges\n",
    "a.apply_threshold() \n",
    "print(\"Total possible edges: \", a.G.number_of_edges())\n",
    "# Getting the edges thresholded with 0.6\n",
    "a.apply_threshold(threshold_type=\"tVal\", value=0.6)\n",
    "print(\"Number of edges from a threshold of 0.6: \", a.G.number_of_edges())\n",
    "\n",
    "print(\"(3387/124750 = \", 3387/124750, \")\")        "
   ]
  },
  {
   "cell_type": "markdown",
   "metadata": {},
   "source": [
    "While `threshold_to_percentage()` is based on values from `adjMat`, we also have another method to calculate a similar ratio from values of the `G` object. This method is `percent_connected()`, and it returns the ratio of the current number of edges in our `G` object and the total number of possible connections. \n",
    "\n",
    "You can see this difference with other aspects. For example, if `adjMat` has *NaN*s, they are not counted in the result of `threshold_to_percentage()`. On the other hand, `percent_connected()` calculates the number of total possible connections, using the following formula for an unidirected graph:\n",
    "$$\\left (nodes \\times \\left (nodes - 1  \\right )  \\right ) / 2$$\n",
    "This is equivalent to the upper right side of an adjacency matrix, including possible *NaN*s that it might have. \n",
    "\n",
    "For a directed graph, the formula is:\n",
    "$$nodes \\times \\left (nodes - 1  \\right )  $$"
   ]
  },
  {
   "cell_type": "code",
   "execution_count": 3,
   "metadata": {},
   "outputs": [
    {
     "name": "stdout",
     "output_type": "stream",
     "text": [
      "Ratio:  1.0\n"
     ]
    }
   ],
   "source": [
    "a.apply_threshold()\n",
    "print(\"Ratio: \", utils.percent_connected(a))"
   ]
  },
  {
   "cell_type": "markdown",
   "metadata": {},
   "source": [
    "The previous ratio is equals to 1 because we applied a threshold where we included all the possible edges from `adjMat`, thus everything is connected.\n",
    "\n",
    "We can reach the same ratio value we showed before with `threshold_to_percentage()` if we apply a threshold of 0.6:"
   ]
  },
  {
   "cell_type": "code",
   "execution_count": 4,
   "metadata": {},
   "outputs": [
    {
     "name": "stdout",
     "output_type": "stream",
     "text": [
      "Ratio in a.G after thresholding of 0.6:  0.027150300601202406\n",
      "Total possible edges from G:  124750.0\n",
      "Number of edges in G:  3387\n",
      "(3387/124750 =  0.027150300601202406 )\n"
     ]
    }
   ],
   "source": [
    "a.apply_threshold(threshold_type=\"tVal\", value=0.6)\n",
    "\n",
    "print(\"Ratio in a.G after thresholding of 0.6: \", utils.percent_connected(a))\n",
    "\n",
    "## Checking the previous value\n",
    "nodes = a.G.number_of_nodes()\n",
    "print(\"Total possible edges from G: \", (nodes * (nodes-1)) / 2)\n",
    "print(\"Number of edges in G: \", a.G.number_of_edges())\n",
    "\n",
    "print(\"(3387/124750 = \", 3387/124750, \")\")  "
   ]
  },
  {
   "cell_type": "markdown",
   "metadata": {},
   "source": [
    "## Highlighting Brains\n",
    "\n",
    "Properties of a Brain can be filtered using highlights. A Highlight is simply a list of nodes and/or edges.\n",
    "\n",
    "In order to be easier to see the highlighting features, we will be importing a shorter matrix with just 4 nodes ([link here](https://github.com/RittmanResearch/maybrain/blob/master/docs/data/3d_grid_adj.txt)) and properties about colours which we already used before ([link here](https://github.com/RittmanResearch/maybrain/blob/master/docs/data/3d_grid_properties.txt))."
   ]
  },
  {
   "cell_type": "code",
   "execution_count": 5,
   "metadata": {},
   "outputs": [
    {
     "name": "stdout",
     "output_type": "stream",
     "text": [
      "Warning! Unable to process property ['colour', 6, 'green']\n",
      "(0, 1, {'colour': 'grey', 'weight': 0.60080034391699999})\n",
      "(0, 2, {'colour': 'red', 'weight': 0.203602458588})\n",
      "(0, 3, {'colour': 'green', 'weight': 0.16390494700200001})\n",
      "(1, 2, {'colour': 'green', 'weight': 0.84379894778099995})\n",
      "(1, 3, {'colour': 'green', 'weight': 0.242747996199})\n",
      "(2, 3, {'colour': 'green', 'weight': 0.63727884848299998})\n",
      "(0, {'colour': 'blue'})\n",
      "(1, {'colour': 'red'})\n",
      "(2, {})\n",
      "(3, {'colour': 'red'})\n"
     ]
    }
   ],
   "source": [
    "from maybrain import constants as ct\n",
    "\n",
    "b = mbt.Brain()\n",
    "b.import_adj_file(\"data/3d_grid_adj.txt\")\n",
    "b.apply_threshold()\n",
    "b.import_properties(\"data/3d_grid_properties.txt\")\n",
    "\n",
    "# Checking the properties we have for the nodes and edges, to confirm the next function calls\n",
    "for edge in b.G.edges(data=True):\n",
    "    print(edge)\n",
    "for node in b.G.nodes(data=True):\n",
    "    print(node)"
   ]
  },
  {
   "cell_type": "markdown",
   "metadata": {},
   "source": [
    "The main function to create the highlights is `highlight_from_conds(brain, prop, rel, val, mode, label)`. This function creates an highlight by asking if the property `prop` is related to `val` by `rel`.\n",
    "\n",
    "The highlight is then stored in a dictionary `utils.highlights`, where the keys are the ones passed previously in the parameter `label`. If you don't define a label, it will create one automatically.\n",
    "\n",
    "The `rel` parameter can be:\n",
    "```\n",
    "'geq' - greater than or equal to\n",
    "'leq' - less than or equal to\n",
    "'gt' - strictly greater than\n",
    "'lt' - strictly less than\n",
    "'eq' - equal to (i.e. exactly)\n",
    "'in()', 'in[)', 'in(]', 'in[]' - within an interval, in this case `val` is a list of two numbers\n",
    "                                \"[\" and \"]\" means inclusive, \"(\" and \")\" means exclusive\n",
    "'in' - in `val`\n",
    "```\n",
    "\n",
    "In the next example you can see this function in action. In the first case, we filter the brain by getting the nodes which have the property `colour` equals to `green`, and we save in the `highlights` dictionary with the label `1`. The second case is the same filtering, but applied to the edges, and saved in the `highlights` dictionary with the label `2`. "
   ]
  },
  {
   "cell_type": "code",
   "execution_count": 6,
   "metadata": {},
   "outputs": [
    {
     "name": "stdout",
     "output_type": "stream",
     "text": [
      "[]\n",
      "[]\n",
      "[(0, 3), (1, 2), (1, 3), (2, 3)]\n",
      "[]\n"
     ]
    }
   ],
   "source": [
    "utils.highlight_from_conds(b, 'colour', 'eq', 'green', mode='node', label=1)\n",
    "# Getting the highlight with the label 1\n",
    "highlight = utils.highlights[1]\n",
    "# Printing the results of the highlight\n",
    "print(highlight.edges) # Empty because we chose to highligh just the nodes\n",
    "print(highlight.nodes) # Empty because there is no node with the property `colour` as `green`\n",
    "\n",
    "\n",
    "utils.highlight_from_conds(b, 'colour', 'eq', 'green', mode='edge', label=2)\n",
    "# Getting the highlight with the label 1\n",
    "highlight = utils.highlights[2]\n",
    "# Printing the results of the highlight\n",
    "print(highlight.edges) # We have edges with the property `colour` as `green`\n",
    "print(highlight.nodes) # Empty again"
   ]
  },
  {
   "cell_type": "markdown",
   "metadata": {},
   "source": [
    "In the next example we use the relation `in` in different ways. In the first case we want to find the edges whose weights are between 0.6 and 0.8 (exclusive). In the second case we show that it is possible to highlight at the same time nodes and edges, by finding the edges/nodes whose `colour` property is `red` or `grey`."
   ]
  },
  {
   "cell_type": "code",
   "execution_count": 7,
   "metadata": {},
   "outputs": [
    {
     "name": "stdout",
     "output_type": "stream",
     "text": [
      "[(0, 1), (2, 3)]\n",
      "[]\n",
      "[(0, 1), (0, 2)]\n",
      "[1, 3]\n"
     ]
    }
   ],
   "source": [
    "utils.highlight_from_conds(b, ct.WEIGHT, 'in()', (0.6, 0.8), mode='edge', label=3)\n",
    "utils.highlight_from_conds(b, 'colour', 'in', ['red','grey'], mode='node|edge',  label=4)\n",
    "\n",
    "# Getting the highlights and printing them\n",
    "high3 = utils.highlights[3]\n",
    "high4 = utils.highlights[4]\n",
    "print(high3.edges)\n",
    "print(high3.nodes)\n",
    "#\n",
    "print(high4.edges)\n",
    "print(high4.nodes)"
   ]
  },
  {
   "cell_type": "markdown",
   "metadata": {},
   "source": [
    "Just a last detail about this function. If you put the property `x`/`X`/`y`/`Y`/`z`/`Z`, it will look out for the respective value from the property `ct.XYZ` in the nodes.\n",
    "\n",
    "Finally, if you already have your set of nodes and/or edges as your own highlights, you can just store them using `make_highlight()`:"
   ]
  },
  {
   "cell_type": "code",
   "execution_count": 8,
   "metadata": {},
   "outputs": [
    {
     "name": "stdout",
     "output_type": "stream",
     "text": [
      "[3]\n",
      "[(1, 2), (2, 3)]\n"
     ]
    }
   ],
   "source": [
    "utils.make_highlight(edge_inds=[(1,2), (2,3)], nodes_inds=[3], label='custom1')\n",
    "print(utils.highlights['custom1'].nodes)\n",
    "print(utils.highlights['custom1'].edges)"
   ]
  },
  {
   "cell_type": "markdown",
   "metadata": {},
   "source": [
    "## Integration with Other Tools\n",
    "\n",
    "The `utils` package provides some support to interact with other tools. There is an entire [jupyter notebook](https://github.com/RittmanResearch/maybrain/blob/master/docs/07%20-%20Integration%20With%20Other%20Tools.ipynb) to explain that part of Maybrain."
   ]
  }
 ],
 "metadata": {
  "kernelspec": {
   "display_name": "Python 3",
   "language": "python",
   "name": "python3"
  },
  "language_info": {
   "codemirror_mode": {
    "name": "ipython",
    "version": 3
   },
   "file_extension": ".py",
   "mimetype": "text/x-python",
   "name": "python",
   "nbconvert_exporter": "python",
   "pygments_lexer": "ipython3",
   "version": "3.5.4"
  }
 },
 "nbformat": 4,
 "nbformat_minor": 2
}
