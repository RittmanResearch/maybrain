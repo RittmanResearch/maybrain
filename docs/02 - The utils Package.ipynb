{
 "cells": [
  {
   "cell_type": "markdown",
   "metadata": {},
   "source": [
    "# The `utils` Package\n",
    "\n",
    "As the name says, this package brings some extra functionalities that you might need while using Maybrain.\n",
    "\n",
    "Let's start by importing it and initialising a Brain:"
   ]
  },
  {
   "cell_type": "code",
   "execution_count": 1,
   "metadata": {},
   "outputs": [],
   "source": [
    "from maybrain import utils\n",
    "from maybrain import resources as rr\n",
    "from maybrain import brain as mbt\n",
    "\n",
    "a = mbt.Brain()\n",
    "a.import_adj_file(rr.DUMMY_ADJ_FILE_500)\n",
    "a.import_spatial_info(rr.MNI_SPACE_COORDINATES_500)\n",
    "a.apply_threshold()"
   ]
  },
  {
   "cell_type": "markdown",
   "metadata": {},
   "source": [
    "## Information about Percentages\n",
    "\n",
    "Imagine that you want to know what would be the ratio between the edges on `adjMat` above a certain threshold value and the total possible edges of `adjMat` (the ones different from `nan`). This might be useful for you to decide which threshold you might apply later.\n",
    "\n",
    "In our specific matrix, we can verify that we have 124750 possible edges in `adjMat`, and if we applied a threshold of 0.6, we would get 3387 edges:"
   ]
  },
  {
   "cell_type": "code",
   "execution_count": 2,
   "metadata": {},
   "outputs": [
    {
     "name": "stdout",
     "output_type": "stream",
     "text": [
      "Ratio: 0.027150300601202406\n",
      "Total possible edges:  124750\n",
      "Number of edges from a threshold of 0.6:  3387\n",
      "(3387/124750 =  0.027150300601202406 )\n"
     ]
    }
   ],
   "source": [
    "print(\"Ratio:\", utils.threshold_to_percentage(a, 0.6))\n",
    "\n",
    "## Checking the previous result\n",
    "# Creating all possible edges\n",
    "a.apply_threshold() \n",
    "print(\"Total possible edges: \", a.G.number_of_edges())\n",
    "# Getting the edges thresholded with 0.6\n",
    "a.apply_threshold(threshold_type=\"tVal\", value=0.6)\n",
    "print(\"Number of edges from a threshold of 0.6: \", a.G.number_of_edges())\n",
    "\n",
    "print(\"(3387/124750 = \", 3387/124750, \")\")        "
   ]
  },
  {
   "cell_type": "markdown",
   "metadata": {},
   "source": [
    "While `threshold_to_percentage()` is based on values from `adjMat`, we also have another method to calculate a similar ratio from values of the `G` object. This method is `percent_connected()`, and it returns the ratio of the current number of edges in our `G` object and the total number of possible connections. \n",
    "\n",
    "You can see this difference with other aspects. For example, if `adjMat` has *NaN*s, they are not counted in the result of `threshold_to_percentage()`. On the other hand, `percent_connected()` calculates the number of total possible connections, using the following formula for an unidirected graph:\n",
    "$$\\left (nodes \\times \\left (nodes - 1  \\right )  \\right ) / 2$$\n",
    "This is equivalent to the upper right side of an adjacency matrix, including possible *NaN*s that it might have. \n",
    "\n",
    "For a directed graph, the formula is:\n",
    "$$nodes \\times \\left (nodes - 1  \\right )  $$"
   ]
  },
  {
   "cell_type": "code",
   "execution_count": 3,
   "metadata": {},
   "outputs": [
    {
     "name": "stdout",
     "output_type": "stream",
     "text": [
      "Ratio:  1.0\n"
     ]
    }
   ],
   "source": [
    "a.apply_threshold()\n",
    "print(\"Ratio: \", utils.percent_connected(a))"
   ]
  },
  {
   "cell_type": "markdown",
   "metadata": {},
   "source": [
    "The previous ratio is equals to 1 because we applied a threshold where we included all the possible edges from `adjMat`, thus everything is connected.\n",
    "\n",
    "We can reach the same ratio value we showed before with `threshold_to_percentage()` if we apply a threshold of 0.6:"
   ]
  },
  {
   "cell_type": "code",
   "execution_count": 4,
   "metadata": {},
   "outputs": [
    {
     "name": "stdout",
     "output_type": "stream",
     "text": [
      "Ratio in a.G after thresholding of 0.6:  0.027150300601202406\n",
      "Total possible edges from G:  124750.0\n",
      "Number of edges in G:  3387\n",
      "(3387/124750 =  0.027150300601202406 )\n"
     ]
    }
   ],
   "source": [
    "a.apply_threshold(threshold_type=\"tVal\", value=0.6)\n",
    "\n",
    "print(\"Ratio in a.G after thresholding of 0.6: \", utils.percent_connected(a))\n",
    "\n",
    "## Checking the previous value\n",
    "nodes = a.G.number_of_nodes()\n",
    "print(\"Total possible edges from G: \", (nodes * (nodes-1)) / 2)\n",
    "print(\"Number of edges in G: \", a.G.number_of_edges())\n",
    "\n",
    "print(\"(3387/124750 = \", 3387/124750, \")\")  "
   ]
  }
 ],
 "metadata": {
  "kernelspec": {
   "display_name": "Python 3",
   "language": "python",
   "name": "python3"
  },
  "language_info": {
   "codemirror_mode": {
    "name": "ipython",
    "version": 3
   },
   "file_extension": ".py",
   "mimetype": "text/x-python",
   "name": "python",
   "nbconvert_exporter": "python",
   "pygments_lexer": "ipython3",
   "version": "3.5.4"
  }
 },
 "nbformat": 4,
 "nbformat_minor": 2
}
