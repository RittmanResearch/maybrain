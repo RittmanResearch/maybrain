{
 "cells": [
  {
   "cell_type": "markdown",
   "metadata": {},
   "source": [
    "# More About the `Brain` Class\n",
    "\n",
    "Besides the basic functionalities already covered about the `Brain` class, you might find useful some others.\n",
    "\n",
    "Let's start by initialising a Brain, importing the `constants` module, and importing the `resources` package:"
   ]
  },
  {
   "cell_type": "code",
   "execution_count": 1,
   "metadata": {},
   "outputs": [],
   "source": [
    "from maybrain import constants as ct\n",
    "from maybrain import resources as rr\n",
    "from maybrain import brain as mbt\n",
    "a = mbt.Brain()\n",
    "a.import_adj_file(rr.DUMMY_ADJ_FILE_500)\n",
    "a.import_spatial_info(rr.MNI_SPACE_COORDINATES_500)\n",
    "a.apply_threshold()"
   ]
  },
  {
   "cell_type": "markdown",
   "metadata": {},
   "source": [
    "## Identifying the Brain\n",
    "\n",
    "As it is a brain, it means it was scanned from a subject, either a human or other animals. **Brain** has two fields in which you can put information about the subject and the scan for easier identification: "
   ]
  },
  {
   "cell_type": "code",
   "execution_count": 2,
   "metadata": {},
   "outputs": [
    {
     "name": "stdout",
     "output_type": "stream",
     "text": [
      "139974065570536\n"
     ]
    }
   ],
   "source": [
    "a.subject = 2316 # For example, an ID\n",
    "a.scan = '20170501U-ID15160' # For example, the day of the scan and the correspondent ID\n",
    "\n",
    "# Python also has functionalities if you want to uniquely identify a Brain instance:\n",
    "print(id(a))"
   ]
  },
  {
   "cell_type": "markdown",
   "metadata": {},
   "source": [
    "## Updating the Adjacency Matrix\n",
    "\n",
    "After working directly with the *networkX* `G` object which you have inside *Brain*, you can directly update your original adjacency matrix, by getting the values from `G`.\n",
    "\n",
    "One way is to choose a specific edge to update:"
   ]
  },
  {
   "cell_type": "code",
   "execution_count": 3,
   "metadata": {},
   "outputs": [
    {
     "name": "stdout",
     "output_type": "stream",
     "text": [
      "Old value at edge (2,3) in adjMat:  0.224232195604\n",
      "Old value at edge (2,3) in a.G 0.224232195604\n",
      "New value at edge (2,3) in a.G:  3\n",
      "New value at edge (2,3) in adjMat:  3.0\n"
     ]
    }
   ],
   "source": [
    "print(\"Old value at edge (2,3) in adjMat: \", a.adjMat[2][3])\n",
    "print(\"Old value at edge (2,3) in a.G\", a.G.edges[2,3][ct.WEIGHT])\n",
    "\n",
    "# Changing edge (2,3) at a.G:\n",
    "a.G.edges[2,3][ct.WEIGHT] = 3\n",
    "a.update_adj_mat((2,3))\n",
    "print(\"New value at edge (2,3) in a.G: \", a.G.edges[2,3][ct.WEIGHT])\n",
    "print(\"New value at edge (2,3) in adjMat: \", a.adjMat[2][3])\n"
   ]
  },
  {
   "cell_type": "markdown",
   "metadata": {},
   "source": [
    "You can also update the whole adjacency matrix at once. Note that in our `G` object there is no edge between a node to itself thus, when reconstructing the adjacency matrix, that value will be `nan`:"
   ]
  },
  {
   "cell_type": "code",
   "execution_count": 4,
   "metadata": {},
   "outputs": [
    {
     "name": "stdout",
     "output_type": "stream",
     "text": [
      "Weight of edge (0,0) in adjMat:  0.0\n",
      "Weight of edge (0,0) in adjMat after reconstructing:  nan\n"
     ]
    }
   ],
   "source": [
    "print(\"Weight of edge (0,0) in adjMat: \", a.adjMat[0][0])\n",
    "a.reconstruct_adj_mat()\n",
    "print(\"Weight of edge (0,0) in adjMat after reconstructing: \", a.adjMat[0][0])"
   ]
  },
  {
   "cell_type": "markdown",
   "metadata": {},
   "source": [
    "## Removing Unconnected Nodes\n",
    "\n",
    "After a while you might have some nodes in `G` which are not connected to any other node. You can remove those nodes:"
   ]
  },
  {
   "cell_type": "code",
   "execution_count": 5,
   "metadata": {},
   "outputs": [
    {
     "name": "stdout",
     "output_type": "stream",
     "text": [
      "Number of nodes:  500\n",
      "Number of nodes after removing:  2\n"
     ]
    }
   ],
   "source": [
    "# Import adjacency file again because adjMat was altered before\n",
    "a.import_adj_file(rr.DUMMY_ADJ_FILE_500)\n",
    "a.apply_threshold(threshold_type=\"totalEdges\", value = 1)\n",
    "\n",
    "print(\"Number of nodes: \", a.G.number_of_nodes())\n",
    "a.remove_unconnected_nodes()\n",
    "print(\"Number of nodes after removing: \", a.G.number_of_nodes())"
   ]
  },
  {
   "cell_type": "markdown",
   "metadata": {},
   "source": [
    "## Linked Nodes\n",
    "\n",
    "Looking to the edges of your `G` object you can see which nodes are connected, but you might prefer to have that information in the nodes themselves. \n",
    "\n",
    "With `find_linked_nodes()` you can add a property to each node saying to which other nodes it is connected. You can access that property through `constants.LINKED_NODES`."
   ]
  },
  {
   "cell_type": "code",
   "execution_count": 6,
   "metadata": {},
   "outputs": [
    {
     "name": "stdout",
     "output_type": "stream",
     "text": [
      "Our edges are:  [(92, 302), (96, 194), (223, 365), (238, 341), (241, 341)]\n",
      "Node 341 is linked to:  [238, 241]\n",
      "Node 238 is linked to:  [341]\n",
      "Node 92 is linked to:  [302]\n",
      "Node 1 is linked to:  []  (nothing)\n"
     ]
    }
   ],
   "source": [
    "# Import adjacency file again because adjMat was altered before\n",
    "a.import_adj_file(rr.DUMMY_ADJ_FILE_500)\n",
    "a.apply_threshold(threshold_type=\"totalEdges\", value=\"5\")\n",
    "print(\"Our edges are: \", a.G.edges())\n",
    "\n",
    "a.find_linked_nodes()\n",
    "\n",
    "#As the graph is undirected, this property works on both directions:\n",
    "print(\"Node 341 is linked to: \", a.G.nodes[341][ct.LINKED_NODES])\n",
    "print(\"Node 238 is linked to: \", a.G.nodes[238][ct.LINKED_NODES])\n",
    "print(\"Node 92 is linked to: \", a.G.nodes[92][ct.LINKED_NODES])\n",
    "print(\"Node 1 is linked to: \", a.G.nodes[1][ct.LINKED_NODES], \" (nothing)\")"
   ]
  },
  {
   "cell_type": "markdown",
   "metadata": {},
   "source": [
    "## Weights to Distances\n",
    "\n",
    "With a weight, the higher the value the stronger the connection. With a distance, the higher the value the \"weaker\" the connection.\n",
    "\n",
    "If you want to convert the weights of our edges in a way that they can be seen as distances, you just have to use `weight_to_distance()`. Note that there is no measurement unit for the distance, as it just a conversion from the weights. \n",
    "\n",
    "Essentially, the value of the maximum weight will be approximately the value of the highest possible distance (if your weights are all positive in the first place). "
   ]
  },
  {
   "cell_type": "code",
   "execution_count": 7,
   "metadata": {},
   "outputs": [
    {
     "name": "stdout",
     "output_type": "stream",
     "text": [
      "Our edges before conversion: \n",
      "(92, 302, {'weight': 1.2896769679245286})\n",
      "(96, 194, {'weight': 1.2930219528301885})\n",
      "(223, 365, {'weight': 1.2869634132075474})\n",
      "(238, 341, {'weight': 1.2818323018867921})\n",
      "(241, 341, {'weight': 1.2753403320754713})\n",
      "Our edges after conversion: \n",
      "(92, 302, {'weight': 1.2896769679245286, 'distance': 0.005344984905659933})\n",
      "(96, 194, {'weight': 1.2930219528301885, 'distance': 0.0020000000000000018})\n",
      "(223, 365, {'weight': 1.2869634132075474, 'distance': 0.0080585396226411365})\n",
      "(238, 341, {'weight': 1.2818323018867921, 'distance': 0.013189650943396414})\n",
      "(241, 341, {'weight': 1.2753403320754713, 'distance': 0.019681620754717244})\n"
     ]
    }
   ],
   "source": [
    "print(\"Our edges before conversion: \")\n",
    "for e in a.G.edges(data=True):\n",
    "    print(e)\n",
    "\n",
    "a.weight_to_distance()\n",
    "\n",
    "print(\"Our edges after conversion: \")\n",
    "for e in a.G.edges(data=True):\n",
    "    print(e)"
   ]
  },
  {
   "cell_type": "markdown",
   "metadata": {},
   "source": [
    "You can access weights and distances of specific edges through `constants.WEIGHT` and `constants.DISTANCE`, respectively:"
   ]
  },
  {
   "cell_type": "code",
   "execution_count": 8,
   "metadata": {},
   "outputs": [
    {
     "name": "stdout",
     "output_type": "stream",
     "text": [
      "Weight of edge (92,302):    1.28967696792\n",
      "Distance of edge (92,302):  0.00534498490566\n"
     ]
    }
   ],
   "source": [
    "print(\"Weight of edge (92,302):   \", a.G.edges[92, 302][ct.WEIGHT])\n",
    "print(\"Distance of edge (92,302): \", a.G.edges[92, 302][ct.DISTANCE])"
   ]
  },
  {
   "cell_type": "markdown",
   "metadata": {},
   "source": [
    "## Directed Adjacency Matrix\n",
    "\n",
    "All the examples so far consider that a brain is represented as an unidirected graph. It is possible to use **Brain** as a brain that is represented as a directed graph.\n",
    "\n",
    "In practice, that means that when you call `import_adj_file()`, the lower half of the matrix is also considered, as now the adjacency matrix is not considered symmetric."
   ]
  },
  {
   "cell_type": "code",
   "execution_count": 9,
   "metadata": {},
   "outputs": [
    {
     "name": "stdout",
     "output_type": "stream",
     "text": [
      "Is the brain 'a' directed?:  False\n",
      "Number of edges of a:  124750\n",
      "Is the brain 'd' directed?:  True\n",
      "Number of edges of d:  249500\n"
     ]
    }
   ],
   "source": [
    "# Not directed adjacency matrix\n",
    "a.import_adj_file(rr.DUMMY_ADJ_FILE_500)\n",
    "a.apply_threshold()\n",
    "print(\"Is the brain 'a' directed?: \", a.directed)\n",
    "print(\"Number of edges of a: \", a.G.number_of_edges())\n",
    "\n",
    "# Direct adjacency matrix\n",
    "d = mbt.Brain(directed=True)\n",
    "d.import_adj_file(rr.DUMMY_ADJ_FILE_500)\n",
    "d.apply_threshold()\n",
    "print(\"Is the brain 'd' directed?: \", d.directed)\n",
    "print(\"Number of edges of d: \", d.G.number_of_edges())"
   ]
  },
  {
   "cell_type": "markdown",
   "metadata": {},
   "source": [
    "Because of being directed, some methods cannot be executed, but an exception is thrown in those cases:"
   ]
  },
  {
   "cell_type": "code",
   "execution_count": 10,
   "metadata": {},
   "outputs": [
    {
     "name": "stdout",
     "output_type": "stream",
     "text": [
      "Error message: local_thresholding() not available for directed graphs\n"
     ]
    }
   ],
   "source": [
    "try:\n",
    "    d.local_thresholding()\n",
    "except TypeError as error:\n",
    "    print(\"Error message:\", error)"
   ]
  }
 ],
 "metadata": {
  "kernelspec": {
   "display_name": "Python 3",
   "language": "python",
   "name": "python3"
  },
  "language_info": {
   "codemirror_mode": {
    "name": "ipython",
    "version": 3
   },
   "file_extension": ".py",
   "mimetype": "text/x-python",
   "name": "python",
   "nbconvert_exporter": "python",
   "pygments_lexer": "ipython3",
   "version": "3.5.4"
  }
 },
 "nbformat": 4,
 "nbformat_minor": 2
}
