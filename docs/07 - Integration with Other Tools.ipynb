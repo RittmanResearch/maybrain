{
 "cells": [
  {
   "cell_type": "markdown",
   "metadata": {},
   "source": [
    "# Integration with Other Tools\n",
    "\n",
    "Throught the `utils` package, Maybrain provides some support to interact with other tools. \n",
    "\n",
    "Let's start by importing it and initialising a Brain (we are not including some nodes just for the sake of some later examples):"
   ]
  },
  {
   "cell_type": "code",
   "execution_count": 1,
   "metadata": {},
   "outputs": [],
   "source": [
    "from maybrain import utils\n",
    "from maybrain import resources as rr\n",
    "from maybrain import brain as mbt\n",
    "import bct\n",
    "\n",
    "a = mbt.Brain()\n",
    "a.import_adj_file(rr.DUMMY_ADJ_FILE_500, nodes_to_exclude=[0,1,2,3,4,5])\n",
    "a.import_spatial_info(rr.MNI_SPACE_COORDINATES_500)\n",
    "a.apply_threshold()"
   ]
  },
  {
   "cell_type": "markdown",
   "metadata": {},
   "source": [
    "## Integration with `bctpy`\n",
    "\n",
    "Maybrain can be used with the pythonic version of the [Brain Connectivity Toolbox](https://sites.google.com/site/bctnet/) which can be found [here](https://github.com/aestrivex/bctpy). \n",
    "\n",
    "For this, the `G` networkx object needs to be saved in a specific format. We also indicate that when a connection is not present, it will be filled with the value zero:"
   ]
  },
  {
   "cell_type": "code",
   "execution_count": 2,
   "metadata": {},
   "outputs": [
    {
     "name": "stdout",
     "output_type": "stream",
     "text": [
      "Shape of bct_mat: (494, 494)\n",
      "Number of nodes in a.G: 494\n",
      "Shape of the original a.adjMat: (500, 500)\n",
      "[[ 0.          0.06617782  0.40941173 ...,  0.08898691  0.07360708\n",
      "   0.03935779]\n",
      " [ 0.06617782  0.          0.1360191  ...,  0.30046154  0.24445986\n",
      "   0.20757509]\n",
      " [ 0.40941173  0.1360191   0.         ...,  0.10033294  0.17673282\n",
      "   0.18465023]\n",
      " ..., \n",
      " [ 0.08898691  0.30046154  0.10033294 ...,  0.          0.27570423\n",
      "   0.20343263]\n",
      " [ 0.07360708  0.24445986  0.17673282 ...,  0.27570423  0.          0.37814492]\n",
      " [ 0.03935779  0.20757509  0.18465023 ...,  0.20343263  0.37814492  0.        ]]\n"
     ]
    }
   ],
   "source": [
    "bct_mat = utils.makebctmat(a, nonedge=0)\n",
    "print(\"Shape of bct_mat: \" + str(bct_mat.shape))\n",
    "print(\"Number of nodes in a.G: \" + str(a.G.number_of_nodes()))\n",
    "print(\"Shape of the original a.adjMat: \" + str(a.adjMat.shape))\n",
    "print(bct_mat)"
   ]
  },
  {
   "cell_type": "markdown",
   "metadata": {},
   "source": [
    "Functions can then be called on the resulting matrix:"
   ]
  },
  {
   "cell_type": "code",
   "execution_count": 3,
   "metadata": {},
   "outputs": [
    {
     "name": "stdout",
     "output_type": "stream",
     "text": [
      "[3 5 3 5 3 5 5 3 1 3 3 2 2 5 3 3 3 2 5 5 3 5 3 3 5 2 1 2 3 3 2 5 3 2 2 5 3\n",
      " 2 2 5 3 3 5 5 3 3 5 3 3 5 1 3 1 3 2 5 1 1 1 3 3 2 5 5 5 2 1 3 3 3 3 3 3 2\n",
      " 3 5 3 5 1 3 3 1 1 3 1 2 1 5 5 3 5 1 1 3 3 3 5 1 5 2 5 3 5 5 5 2 1 3 1 2 2\n",
      " 5 2 3 5 3 5 2 2 1 5 1 1 3 2 3 3 3 2 3 5 1 3 5 3 5 3 5 1 2 3 3 5 5 2 1 3 2\n",
      " 3 2 5 1 3 3 3 5 5 3 3 3 5 3 3 3 1 1 5 3 3 3 1 3 3 2 2 5 2 5 3 1 5 2 5 3 1\n",
      " 5 5 2 5 2 5 1 1 3 2 3 2 2 2 1 3 3 5 2 2 5 2 3 3 3 1 1 5 2 1 2 3 1 3 3 5 5\n",
      " 2 5 5 3 3 3 3 3 3 3 1 5 3 1 2 3 3 3 1 2 3 2 3 5 5 3 2 1 5 1 3 5 5 1 5 1 2\n",
      " 5 1 1 3 2 1 1 5 5 1 3 1 5 3 5 1 2 5 3 2 5 1 3 1 2 1 5 2 5 3 3 3 1 3 5 5 1\n",
      " 1 3 3 1 2 3 5 3 1 5 5 1 2 3 1 1 5 1 3 3 3 2 2 3 3 2 5 5 3 2 3 5 1 3 5 5 2\n",
      " 3 2 1 3 2 1 5 5 3 5 2 2 3 5 5 3 3 1 2 5 1 1 1 5 3 3 1 1 1 5 1 3 5 3 2 1 5\n",
      " 5 5 5 3 1 1 5 5 1 5 3 2 3 3 5 2 2 3 3 3 3 3 3 5 5 2 3 3 3 5 3 2 3 1 3 5 3\n",
      " 5 1 3 5 2 3 3 2 2 4 3 3 1 5 5 5 3 5 1 3 2 1 1 5 3 5 5 2 2 1 3 5 2 5 1 1 5\n",
      " 2 3 5 2 3 1 1 1 3 3 2 5 5 1 5 5 5 3 3 1 5 5 1 1 3 5 3 3 3 3 5 3 2 5 1 2 5\n",
      " 2 2 2 3 3 5 3 2 2 2 5 1 1]\n",
      "(494,)\n"
     ]
    }
   ],
   "source": [
    "bct_res = bct.modularity_louvain_und_sign(bct_mat) # calculate the Louvain modularity\n",
    "print(bct_res[0])\n",
    "print(bct_res[0].shape)"
   ]
  },
  {
   "cell_type": "markdown",
   "metadata": {},
   "source": [
    "As you can see from the above output, the result is a simple list of numbers, one for each node of our originally `a.G`. We need to assign them back for each `a.G` node, which you can do by having a dictionary with that information (you can check from the output that our nodes start with the label `6` because when importing our adjacency matrix we didn't import the first 6 nodes):"
   ]
  },
  {
   "cell_type": "code",
   "execution_count": 4,
   "metadata": {},
   "outputs": [
    {
     "name": "stdout",
     "output_type": "stream",
     "text": [
      "{6: 3, 7: 5, 8: 3, 9: 5, 10: 3, 11: 5, 12: 5, 13: 3, 14: 1, 15: 3, 16: 3, 17: 2, 18: 2, 19: 5, 20: 3, 21: 3, 22: 3, 23: 2, 24: 5, 25: 5, 26: 3, 27: 5, 28: 3, 29: 3, 30: 5, 31: 2, 32: 1, 33: 2, 34: 3, 35: 3, 36: 2, 37: 5, 38: 3, 39: 2, 40: 2, 41: 5, 42: 3, 43: 2, 44: 2, 45: 5, 46: 3, 47: 3, 48: 5, 49: 5, 50: 3, 51: 3, 52: 5, 53: 3, 54: 3, 55: 5, 56: 1, 57: 3, 58: 1, 59: 3, 60: 2, 61: 5, 62: 1, 63: 1, 64: 1, 65: 3, 66: 3, 67: 2, 68: 5, 69: 5, 70: 5, 71: 2, 72: 1, 73: 3, 74: 3, 75: 3, 76: 3, 77: 3, 78: 3, 79: 2, 80: 3, 81: 5, 82: 3, 83: 5, 84: 1, 85: 3, 86: 3, 87: 1, 88: 1, 89: 3, 90: 1, 91: 2, 92: 1, 93: 5, 94: 5, 95: 3, 96: 5, 97: 1, 98: 1, 99: 3, 100: 3, 101: 3, 102: 5, 103: 1, 104: 5, 105: 2, 106: 5, 107: 3, 108: 5, 109: 5, 110: 5, 111: 2, 112: 1, 113: 3, 114: 1, 115: 2, 116: 2, 117: 5, 118: 2, 119: 3, 120: 5, 121: 3, 122: 5, 123: 2, 124: 2, 125: 1, 126: 5, 127: 1, 128: 1, 129: 3, 130: 2, 131: 3, 132: 3, 133: 3, 134: 2, 135: 3, 136: 5, 137: 1, 138: 3, 139: 5, 140: 3, 141: 5, 142: 3, 143: 5, 144: 1, 145: 2, 146: 3, 147: 3, 148: 5, 149: 5, 150: 2, 151: 1, 152: 3, 153: 2, 154: 3, 155: 2, 156: 5, 157: 1, 158: 3, 159: 3, 160: 3, 161: 5, 162: 5, 163: 3, 164: 3, 165: 3, 166: 5, 167: 3, 168: 3, 169: 3, 170: 1, 171: 1, 172: 5, 173: 3, 174: 3, 175: 3, 176: 1, 177: 3, 178: 3, 179: 2, 180: 2, 181: 5, 182: 2, 183: 5, 184: 3, 185: 1, 186: 5, 187: 2, 188: 5, 189: 3, 190: 1, 191: 5, 192: 5, 193: 2, 194: 5, 195: 2, 196: 5, 197: 1, 198: 1, 199: 3, 200: 2, 201: 3, 202: 2, 203: 2, 204: 2, 205: 1, 206: 3, 207: 3, 208: 5, 209: 2, 210: 2, 211: 5, 212: 2, 213: 3, 214: 3, 215: 3, 216: 1, 217: 1, 218: 5, 219: 2, 220: 1, 221: 2, 222: 3, 223: 1, 224: 3, 225: 3, 226: 5, 227: 5, 228: 2, 229: 5, 230: 5, 231: 3, 232: 3, 233: 3, 234: 3, 235: 3, 236: 3, 237: 3, 238: 1, 239: 5, 240: 3, 241: 1, 242: 2, 243: 3, 244: 3, 245: 3, 246: 1, 247: 2, 248: 3, 249: 2, 250: 3, 251: 5, 252: 5, 253: 3, 254: 2, 255: 1, 256: 5, 257: 1, 258: 3, 259: 5, 260: 5, 261: 1, 262: 5, 263: 1, 264: 2, 265: 5, 266: 1, 267: 1, 268: 3, 269: 2, 270: 1, 271: 1, 272: 5, 273: 5, 274: 1, 275: 3, 276: 1, 277: 5, 278: 3, 279: 5, 280: 1, 281: 2, 282: 5, 283: 3, 284: 2, 285: 5, 286: 1, 287: 3, 288: 1, 289: 2, 290: 1, 291: 5, 292: 2, 293: 5, 294: 3, 295: 3, 296: 3, 297: 1, 298: 3, 299: 5, 300: 5, 301: 1, 302: 1, 303: 3, 304: 3, 305: 1, 306: 2, 307: 3, 308: 5, 309: 3, 310: 1, 311: 5, 312: 5, 313: 1, 314: 2, 315: 3, 316: 1, 317: 1, 318: 5, 319: 1, 320: 3, 321: 3, 322: 3, 323: 2, 324: 2, 325: 3, 326: 3, 327: 2, 328: 5, 329: 5, 330: 3, 331: 2, 332: 3, 333: 5, 334: 1, 335: 3, 336: 5, 337: 5, 338: 2, 339: 3, 340: 2, 341: 1, 342: 3, 343: 2, 344: 1, 345: 5, 346: 5, 347: 3, 348: 5, 349: 2, 350: 2, 351: 3, 352: 5, 353: 5, 354: 3, 355: 3, 356: 1, 357: 2, 358: 5, 359: 1, 360: 1, 361: 1, 362: 5, 363: 3, 364: 3, 365: 1, 366: 1, 367: 1, 368: 5, 369: 1, 370: 3, 371: 5, 372: 3, 373: 2, 374: 1, 375: 5, 376: 5, 377: 5, 378: 5, 379: 3, 380: 1, 381: 1, 382: 5, 383: 5, 384: 1, 385: 5, 386: 3, 387: 2, 388: 3, 389: 3, 390: 5, 391: 2, 392: 2, 393: 3, 394: 3, 395: 3, 396: 3, 397: 3, 398: 3, 399: 5, 400: 5, 401: 2, 402: 3, 403: 3, 404: 3, 405: 5, 406: 3, 407: 2, 408: 3, 409: 1, 410: 3, 411: 5, 412: 3, 413: 5, 414: 1, 415: 3, 416: 5, 417: 2, 418: 3, 419: 3, 420: 2, 421: 2, 422: 4, 423: 3, 424: 3, 425: 1, 426: 5, 427: 5, 428: 5, 429: 3, 430: 5, 431: 1, 432: 3, 433: 2, 434: 1, 435: 1, 436: 5, 437: 3, 438: 5, 439: 5, 440: 2, 441: 2, 442: 1, 443: 3, 444: 5, 445: 2, 446: 5, 447: 1, 448: 1, 449: 5, 450: 2, 451: 3, 452: 5, 453: 2, 454: 3, 455: 1, 456: 1, 457: 1, 458: 3, 459: 3, 460: 2, 461: 5, 462: 5, 463: 1, 464: 5, 465: 5, 466: 5, 467: 3, 468: 3, 469: 1, 470: 5, 471: 5, 472: 1, 473: 1, 474: 3, 475: 5, 476: 3, 477: 3, 478: 3, 479: 3, 480: 5, 481: 3, 482: 2, 483: 5, 484: 1, 485: 2, 486: 5, 487: 2, 488: 2, 489: 2, 490: 3, 491: 3, 492: 5, 493: 3, 494: 2, 495: 2, 496: 2, 497: 5, 498: 1, 499: 1}\n"
     ]
    }
   ],
   "source": [
    "dict_info = utils.assignbctresult(a, bct_res[0])\n",
    "print(dict_info)"
   ]
  }
 ],
 "metadata": {
  "kernelspec": {
   "display_name": "Python 3",
   "language": "python",
   "name": "python3"
  },
  "language_info": {
   "codemirror_mode": {
    "name": "ipython",
    "version": 3
   },
   "file_extension": ".py",
   "mimetype": "text/x-python",
   "name": "python",
   "nbconvert_exporter": "python",
   "pygments_lexer": "ipython3",
   "version": "3.5.4"
  }
 },
 "nbformat": 4,
 "nbformat_minor": 2
}
