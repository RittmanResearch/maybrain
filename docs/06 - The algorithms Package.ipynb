{
 "cells": [
  {
   "cell_type": "markdown",
   "metadata": {},
   "source": [
    "# The `algorithms` Package\n",
    "\n",
    "As the name says, this package brings some algorithmic functionalities that you might need and that you cannot find in other packages.\n",
    "\n",
    "Let's start by importing it and initialising a Brain:"
   ]
  },
  {
   "cell_type": "code",
   "execution_count": 1,
   "metadata": {},
   "outputs": [],
   "source": [
    "%matplotlib inline\n",
    "import networkx as nx\n",
    "import matplotlib.pyplot as plt\n",
    "\n",
    "from maybrain import utils\n",
    "from maybrain import resources as rr\n",
    "from maybrain import brain as mbt\n",
    "from maybrain import algorithms as mba\n",
    "from maybrain import constants as ct\n",
    "from maybrain.plotting import histograms as hh\n",
    "\n",
    "a = mbt.Brain()\n",
    "a.import_adj_file(rr.DUMMY_ADJ_FILE_500)\n",
    "a.import_spatial_info(rr.MNI_SPACE_COORDINATES_500)"
   ]
  },
  {
   "cell_type": "markdown",
   "metadata": {},
   "source": [
    "## Normalisation\n",
    "\n",
    "If you want to normalise the measures of a certain brain over other (random) graphs, you can use `algorithms.normalisation` module.\n",
    "\n",
    "### Generating random graphs\n",
    "\n",
    "There are many ways to generate random graphs. One way, is to generate random graphs based on the degree sequence. This might be useful to dissociate metrics from variations in degree. When you pass a brain to `generate_random_graph_from_degree()` it will generate a random `nx.Graph` with the same degree sequence. \n",
    "\n",
    "Due to the nature of the underlying random algorithm for graph generation, sometimes the random graph can have a *slightly* different degree sequence. If you want to have a random graph with exactly the same degree sequence as the original, just set the parameter `throw_exception` to True. By doing so, everytime the random graph doesn't have exaclty the same degree sequence, it will throw an Exception, and you can run the algorithm again. "
   ]
  },
  {
   "cell_type": "code",
   "execution_count": 2,
   "metadata": {},
   "outputs": [],
   "source": [
    "# Thresholding original brain\n",
    "a.apply_threshold(threshold_type=\"edgePC\", value=1)\n",
    "\n",
    "# Getting the random graph\n",
    "while True:\n",
    "    try:\n",
    "        rand = mba.generate_random_graph_from_degree(a, throw_exception=True)\n",
    "        break # if it reaches here, means randomiser didn't throw any exception, so break while\n",
    "    except mba.RandomGenerationError as error:\n",
    "        print(\"Degree sequence not the same, running again the graph generator...\")\n",
    "        pass"
   ]
  },
  {
   "cell_type": "markdown",
   "metadata": {},
   "source": [
    "As you can see from the following outputs, the degree sequence in the random graph is the same as the degree sequence of the original brain's graph:"
   ]
  },
  {
   "cell_type": "code",
   "execution_count": 3,
   "metadata": {},
   "outputs": [
    {
     "name": "stdout",
     "output_type": "stream",
     "text": [
      "[(0, 5), (1, 13), (2, 2), (3, 7), (4, 0), (5, 6), (6, 1), (7, 2), (8, 0), (9, 3)]\n",
      "[(0, 5), (1, 13), (2, 2), (3, 7), (4, 0), (5, 6), (6, 1), (7, 2), (8, 0), (9, 3)]\n"
     ]
    },
    {
     "data": {
      "text/plain": [
       "(array([ 187.,  109.,   91.,   32.,   26.,   25.,   12.,   11.,    4.,    3.]),\n",
       " array([  0. ,   2.4,   4.8,   7.2,   9.6,  12. ,  14.4,  16.8,  19.2,\n",
       "         21.6,  24. ]),\n",
       " <a list of 10 Patch objects>)"
      ]
     },
     "execution_count": 3,
     "metadata": {},
     "output_type": "execute_result"
    },
    {
     "data": {
      "image/png": "[encoded data removed]",
      "text/plain": [
       "<matplotlib.figure.Figure at 0x7fe3cc9bae48>"
      ]
     },
     "metadata": {},
     "output_type": "display_data"
    }
   ],
   "source": [
    "# Printing the 10 first nodes and respective degree of the original and random graphs\n",
    "print(list(nx.degree(a.G))[0:10])\n",
    "print(list(nx.degree(rand))[0:10])\n",
    "\n",
    "# Plotting degree distribution\n",
    "fig, axarr = plt.subplots(1,2, figsize=(15, 5))\n",
    "axarr[0].hist(dict(nx.degree(a.G)).values())\n",
    "axarr[1].hist(dict(nx.degree(rand)).values())\n"
   ]
  },
  {
   "cell_type": "markdown",
   "metadata": {},
   "source": [
    "The original brain might have several attributes on the nodes and the edges, and in case you need to have those attributes in the random graph, you can set the arguments `node_attrs` and `edge_attrs` to say which attributes you need to have in the random graph. With regards to the node's attributes, the mapping from the original to the random is direct. However, it's impossible to define a specific mapping from the original edges to the edges in the random graphs.\n",
    "\n",
    "The following code shows the graph generation by maintaining the weights of the edges. You can see that although the weight distribution is maintained, it is impossible for the nodes in the random graphs to have exactly the same weights as before. Nevertheless, you can see that the generation algorithm shuffles the weights in order to make those values similar."
   ]
  },
  {
   "cell_type": "code",
   "execution_count": 4,
   "metadata": {},
   "outputs": [
    {
     "name": "stdout",
     "output_type": "stream",
     "text": [
      "[(0, 4.2659873452830182), (1, 10.98963629264151), (2, 1.5103898528301887), (3, 5.7168956214905657), (4, 0)]\n",
      "[(0, 4.4859360728301887), (1, 11.278084690943396), (2, 1.5103898528301887), (3, 6.3366183243396215), (4, 0)]\n"
     ]
    },
    {
     "data": {
      "text/plain": [
       "(<matplotlib.figure.Figure at 0x7fe39bbf89b0>,\n",
       " <matplotlib.axes._subplots.AxesSubplot at 0x7fe39be3b518>)"
      ]
     },
     "execution_count": 4,
     "metadata": {},
     "output_type": "execute_result"
    },
    {
     "data": {
      "image/png": "[encoded data removed]",
      "text/plain": [
       "<matplotlib.figure.Figure at 0x7fe3cc9ba860>"
      ]
     },
     "metadata": {},
     "output_type": "display_data"
    },
    {
     "data": {
      "image/png": "[encoded data removed]",
      "text/plain": [
       "<matplotlib.figure.Figure at 0x7fe39bbf89b0>"
      ]
     },
     "metadata": {},
     "output_type": "display_data"
    }
   ],
   "source": [
    "# Getting the random graph again\n",
    "while True:\n",
    "    try:\n",
    "        rand = mba.generate_random_graph_from_degree(a, throw_exception=True, edge_attrs=[ct.WEIGHT])\n",
    "        break # if it reaches here, means randomiser didn't throw any exception, so break while\n",
    "    except mba.RandomGenerationError as error:\n",
    "        print(\"Degree sequence not the same, running again the graph generator...\")\n",
    "        pass\n",
    "\n",
    "print(list(nx.degree(a.G, weight='weight'))[0:5])\n",
    "print(list(nx.degree(rand, weight='weight'))[0:5])\n",
    "\n",
    "hh.plot_weight_distribution(a.G, bins=50)\n",
    "hh.plot_weight_distribution(rand, bins=50)"
   ]
  },
  {
   "cell_type": "markdown",
   "metadata": {},
   "source": [
    "## Averaging measures\n",
    "\n",
    "Now that you know one way to generate random graphs with Maybrain, let's show how we can use that to averaging measures.\n",
    "\n",
    "The following code shows that we can calculate the eigenvector centrality of a graph, and then averaging it over 20 randomly generated graphs (with the same degree sequence):"
   ]
  },
  {
   "cell_type": "code",
   "execution_count": 5,
   "metadata": {},
   "outputs": [
    {
     "name": "stdout",
     "output_type": "stream",
     "text": [
      "Original eigenvector centralities for the first 5 nodes:\n",
      "[(0, 0.0013177730768235286), (1, 0.0033510417177299292), (2, 2.0687009285394397e-09), (3, 1.7800517621378318e-05), (4, -1.9225447360599531e-18)]\n",
      "\n",
      "\n",
      "Normalised eigenvector centralities for the first 5 nodes:\n",
      "[(0, 0.048585868724893976), (1, 0.038585857400018908), (2, 1.7640551890771203e-07), (3, 0.00041294503404089322), (4, -4.292658532997617)]\n"
     ]
    }
   ],
   "source": [
    "values_to_normalise = nx.eigenvector_centrality_numpy(a.G) \n",
    "\n",
    "normalised = mba.normalise_node_wise(a,\n",
    "                                     nx.eigenvector_centrality_numpy, \n",
    "                                     init_vals=dict(values_to_normalise),\n",
    "                                     n_iter=20)\n",
    "\n",
    "print(\"Original eigenvector centralities for the first 5 nodes:\")\n",
    "print(list(values_to_normalise.items())[0:5])\n",
    "print(\"\\n\")\n",
    "print(\"Normalised eigenvector centralities for the first 5 nodes:\")\n",
    "print(list(normalised.items())[0:5])"
   ]
  },
  {
   "cell_type": "markdown",
   "metadata": {},
   "source": [
    "If the average you need to average is not node-wise, but just a single value, you can use `normalise_single()` for that:"
   ]
  },
  {
   "cell_type": "code",
   "execution_count": 6,
   "metadata": {},
   "outputs": [
    {
     "name": "stdout",
     "output_type": "stream",
     "text": [
      "Original global efficiency value:\n",
      "0.10180581155459764\n",
      "\n",
      "\n",
      "Normalised global efficiency value:\n",
      "0.453275362058\n"
     ]
    }
   ],
   "source": [
    "value_to_normalise = nx.global_efficiency(a.G) \n",
    "\n",
    "normalised = mba.normalise_single(a,\n",
    "                                  nx.global_efficiency, \n",
    "                                  init_val=value_to_normalise,\n",
    "                                  n_iter=5) # just 5 random graphs to be quicker\n",
    "\n",
    "print(\"Original global efficiency value:\")\n",
    "print(value_to_normalise)\n",
    "print(\"\\n\")\n",
    "print(\"Normalised global efficiency value:\")\n",
    "print(normalised)"
   ]
  },
  {
   "cell_type": "markdown",
   "metadata": {},
   "source": [
    "Similarly to `generate_random_graph_from_degree`, these functions also have parameters `node_attrs` and `edge_attrs`, which will be passed directly to the random graph generator. Please note that these normalisation functions already add `ct.WEIGHT` to `edge_attrs`, so no need to define that by yourself.\n",
    "\n",
    "In real world scenarios you will probably need to generate much more random graphs for averaging your measures. In those cases, you can inform the normalisation functions about what's the path for those graphs in the `random_location` argument. For each iteration, the normalisation function will add the number (0,1,2,...) to the end of that path to get the random graph and average your measures.\n",
    "\n",
    "Here it is an example of how to save your random graphs:"
   ]
  },
  {
   "cell_type": "code",
   "execution_count": 7,
   "metadata": {},
   "outputs": [],
   "source": [
    "new_G   = mba.generate_random_graph_from_degree(a)\n",
    "new_G_2 = mba.generate_random_graph_from_degree(a)\n",
    "\n",
    "nx.write_gpickle(new_G,   \"new_G_0\")\n",
    "nx.write_gpickle(new_G_2, \"new_G_1\")"
   ]
  },
  {
   "cell_type": "markdown",
   "metadata": {},
   "source": [
    "Finally, note that if the function you need to normalise needs extra arguments, you can pass them as the normalisation functions have a `**kwargs` argument to forward them directly to the function that is used to normalise the measures."
   ]
  },
  {
   "cell_type": "markdown",
   "metadata": {},
   "source": [
    "## Robustness\n",
    "\n",
    "Maybrain has a function to calculate the robustness of a graph based on the article [Error and attack tolerance of complex networks](http://doi.org/10.1038/35019019), by Albert et al..\n",
    "\n",
    "The function calculates the rate of change in the size of the largest connected component (S) as nodes are randomly removed. The process runs iteratively and takes a mean. The gradient of S is smoothed to provide a more accurate measure by a sliding window. Note, this function is relatively slow compared to other metrics due to the multiple iterations."
   ]
  },
  {
   "cell_type": "code",
   "execution_count": 8,
   "metadata": {},
   "outputs": [
    {
     "name": "stdout",
     "output_type": "stream",
     "text": [
      "0.390144\n",
      "CPU times: user 2min 47s, sys: 64 ms, total: 2min 47s\n",
      "Wall time: 2min 47s\n"
     ]
    }
   ],
   "source": [
    "%%time\n",
    "\n",
    "a.apply_threshold(threshold_type=\"edgePC\", value=1)\n",
    "print(mba.robustness(a))"
   ]
  }
 ],
 "metadata": {
  "kernelspec": {
   "display_name": "Python 3",
   "language": "python",
   "name": "python3"
  },
  "language_info": {
   "codemirror_mode": {
    "name": "ipython",
    "version": 3
   },
   "file_extension": ".py",
   "mimetype": "text/x-python",
   "name": "python",
   "nbconvert_exporter": "python",
   "pygments_lexer": "ipython3",
   "version": "3.5.4"
  }
 },
 "nbformat": 4,
 "nbformat_minor": 2
}
