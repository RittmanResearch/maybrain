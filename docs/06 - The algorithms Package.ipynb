{
 "cells": [
  {
   "cell_type": "markdown",
   "metadata": {},
   "source": [
    "# The `algorithms` Package\n",
    "\n",
    "As the name says, this package brings some algorithmic functionalities that you might need and that you cannot find in other packages.\n",
    "\n",
    "Let's start by importing it and initialising a Brain:"
   ]
  },
  {
   "cell_type": "code",
   "execution_count": 1,
   "metadata": {},
   "outputs": [],
   "source": [
    "from maybrain import utils\n",
    "from maybrain import resources as rr\n",
    "from maybrain import brain as mbt\n",
    "from maybrain import algorithms as mba\n",
    "\n",
    "a = mbt.Brain()\n",
    "a.import_adj_file(rr.DUMMY_ADJ_FILE_500)\n",
    "a.import_spatial_info(rr.MNI_SPACE_COORDINATES_500)\n",
    "a.apply_threshold()"
   ]
  },
  {
   "cell_type": "markdown",
   "metadata": {},
   "source": [
    "## Robustness\n",
    "\n",
    "Maybrain has a function to calculate the robustness of a graph based on the article [Error and attack tolerance of complex networks](http://doi.org/10.1038/35019019), by Albert et al..\n",
    "\n",
    "The function calculates the rate of change in the size of the largest connected component (S) as nodes are randomly removed. The process runs iteratively and takes a mean. The gradient of S is smoothed to provide a more accurate measure by a sliding window. Note, this function is relatively slow compared to other metrics due to the multiple iterations."
   ]
  },
  {
   "cell_type": "code",
   "execution_count": 3,
   "metadata": {},
   "outputs": [
    {
     "name": "stdout",
     "output_type": "stream",
     "text": [
      "0.39158\n"
     ]
    }
   ],
   "source": [
    "a.apply_threshold(threshold_type=\"edgePC\", value=1)\n",
    "print(mba.robustness(a))"
   ]
  }
 ],
 "metadata": {
  "kernelspec": {
   "display_name": "Python 3",
   "language": "python",
   "name": "python3"
  },
  "language_info": {
   "codemirror_mode": {
    "name": "ipython",
    "version": 3
   },
   "file_extension": ".py",
   "mimetype": "text/x-python",
   "name": "python",
   "nbconvert_exporter": "python",
   "pygments_lexer": "ipython3",
   "version": "3.5.4"
  }
 },
 "nbformat": 4,
 "nbformat_minor": 2
}
