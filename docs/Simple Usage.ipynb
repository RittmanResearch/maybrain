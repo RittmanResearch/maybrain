{
 "cells": [
  {
   "cell_type": "markdown",
   "metadata": {},
   "source": [
    "# Simple Usage\n",
    "\n",
    "## Basic Principles\n",
    "The purpose of Maybrain is to allow easy visualisation of brain connectome and related data and perform various analyses.\n",
    "\n",
    "The code is built around two principal classes, **brainObj** and **plotObj**. The first contains all the information about the brain and numerous functions to change, measure and highlight those. At its heart is a Networkx object, brainObj.G, via which all *Networkx* functions are available. Some have also been incorporated directly into our code for convenience. The **plotObj** class is a wrapper to enable easy plotting using Mayavi2. It can plot several brain objects and subsets of them (highlights) simultaneously and change basic plot properties. Plots are shown in the mayavi GUI for easy access to a whole range of other Mayavi functions.\n",
    "\n",
    "## Data Input\n",
    "Several types of data can be input. The basic connectome is made up of two files: a coordinate file and an adjacency matrix. In fact only the second of these is strictly required.\n",
    "\n",
    "The coordinate file defines the position of each node. It is a text file where each line has four entries: the node index, x, y and z coordinates. e.g.:\n",
    "\n",
    "```\n",
    "0 0.0 3.1 4.4\n",
    "1 5.3 7.6 8.4\n",
    "2 3.2 4.4 3.1\n",
    "```\n",
    "\n",
    "The adjacency matrix defines the strength of connection between each pair of nodes. For n nodes it is an n × n text matrix. Nodes in maybrain are labelled 0,1,... and the order of the rows and columns in the adjacency matrix is assumed to correspond to this. Entering an adjacency matrix with the wrong dimensions will lead to certain doom."
   ]
  },
  {
   "cell_type": "markdown",
   "metadata": {},
   "source": [
    "## Importing Maybrain\n",
    "The main functions of maybrain are contained in the brainObj module and can easily be achieved with a normal import."
   ]
  },
  {
   "cell_type": "code",
   "execution_count": 1,
   "metadata": {
    "collapsed": true
   },
   "outputs": [],
   "source": [
    "from maybrain import brainObj as mbt"
   ]
  },
  {
   "cell_type": "markdown",
   "metadata": {},
   "source": [
    "## Importing an Adjacency Matrix\n",
    "Firstly, create a brain object:"
   ]
  },
  {
   "cell_type": "code",
   "execution_count": 2,
   "metadata": {},
   "outputs": [
    {
     "name": "stdout",
     "output_type": "stream",
     "text": [
      "Nodes:  []\n",
      "Edges:  []\n",
      "Adjacency matrix:  None\n"
     ]
    }
   ],
   "source": [
    "a = mbt.brainObj()\n",
    "print(\"Nodes: \", a.G.nodes())\n",
    "print(\"Edges: \", a.G.edges())\n",
    "print(\"Adjacency matrix: \", a.adjMat)"
   ]
  },
  {
   "cell_type": "markdown",
   "metadata": {},
   "source": [
    "This creates a brain object, where a graph is stored as `a.G`, initially empty. \n",
    "\n",
    "Then import the adjacency matrix (note that we are using [this file](https://github.com/RittmanResearch/maybrain/blob/master/docs/data/mean_500.txt), thus we need to add information about the delimiter). The *importAdjFile()* function imports the adjacency matrix to form the nodes of your graph, but does not create any edges (connections), as you can check from the outputs:"
   ]
  },
  {
   "cell_type": "code",
   "execution_count": 3,
   "metadata": {},
   "outputs": [
    {
     "name": "stdout",
     "output_type": "stream",
     "text": [
      "Number of nodes:\n",
      " 500\n",
      "First 5 nodes (notice labelling starting with 0):\n",
      " [0, 1, 2, 3, 4]\n",
      "Edges:\n",
      " []\n",
      "Size of Adjacency matrix:\n",
      " (500, 500)\n"
     ]
    }
   ],
   "source": [
    "a.importAdjFile(\"data/mean_500.txt\", delimiter=\",\")\n",
    "\n",
    "print(\"Number of nodes:\\n\", a.G.number_of_nodes())\n",
    "print(\"First 5 nodes (notice labelling starting with 0):\\n\", a.G.nodes()[0:5])\n",
    "print(\"Edges:\\n\", a.G.edges())\n",
    "print(\"Size of Adjacency matrix:\\n\", a.adjMat.shape)"
   ]
  },
  {
   "cell_type": "markdown",
   "metadata": {},
   "source": [
    "If you wish to create a fully connected graph with all the available values in the adjacency matrix, it is necessary to threshold it, which is explained in the next section."
   ]
  },
  {
   "cell_type": "markdown",
   "metadata": {},
   "source": [
    "## Thresholding\n",
    "There are a few ways to apply a threshold, either using an absolute threshold across the whole graph to preserve a specified number of edges or percentage of total possible edges; or to apply a local thresholding that begins with the minimum spanning tree and adds successive n-nearest neighbour graphs. The advantage of local thresholding is that the graph will always be fully connected, which is necessary to collect some graph measures.\n",
    "\n",
    "For an absolute threshold you have several possibilities. Note that our adjacency matrix (`a.adjMat`) always stays the same so we can apply all the thresholds we want to create our graph (`a.G`) accordingly. Also notice that we are dealing with a symmetric adjacency matrix, so although out `a.adjMat` will always have the size of 500x500, the `a.G` will not."
   ]
  },
  {
   "cell_type": "code",
   "execution_count": 4,
   "metadata": {},
   "outputs": [
    {
     "name": "stdout",
     "output_type": "stream",
     "text": [
      "Number of edges (notice it corresponds to the upper half edges of adjacency matrix):\n",
      " 124750\n",
      "Size of Adjacency matrix after 1st threshold:\n",
      " (500, 500)\n",
      "\n",
      "Number of edges after 2nd threshold:\n",
      " 1000\n",
      "Size of Adjacency matrix after 2nd threshold:\n",
      " (500, 500)\n",
      "\n",
      "Number of edges after 3rd threshold:\n",
      " 6237\n",
      "Size of Adjacency matrix after 3rd threshold:\n",
      " (500, 500)\n",
      "\n",
      "Number of edges after 4th threshold:\n",
      " 34848\n",
      "Size of Adjacency matrix after 4th threshold:\n",
      " (500, 500)\n"
     ]
    }
   ],
   "source": [
    "# Bring everything from the adjacency matrix to a.G\n",
    "a.applyThreshold()\n",
    "print(\"Number of edges (notice it corresponds to the upper half edges of adjacency matrix):\\n\", a.G.number_of_edges())\n",
    "print(\"Size of Adjacency matrix after 1st threshold:\\n\", a.adjMat.shape)\n",
    "\n",
    "# Retain the most strongly connected 1000 edges\n",
    "a.applyThreshold(thresholdType = \"totalEdges\", value = 1000) \n",
    "print(\"\\nNumber of edges after 2nd threshold:\\n\", a.G.number_of_edges())\n",
    "print(\"Size of Adjacency matrix after 2nd threshold:\\n\", a.adjMat.shape)\n",
    "\n",
    "# Retain the 5% most connected edges as a percentage of the total possible number of edges\n",
    "a.applyThreshold(thresholdType = \"edgePC\", value = 5) \n",
    "print(\"\\nNumber of edges after 3rd threshold:\\n\", a.G.number_of_edges())\n",
    "print(\"Size of Adjacency matrix after 3rd threshold:\\n\", a.adjMat.shape)\n",
    "\n",
    "# Retain edges with a weight greater than 0.3\n",
    "a.applyThreshold(thresholdType = \"tVal\", value = 0.3) \n",
    "print(\"\\nNumber of edges after 4th threshold:\\n\", a.G.number_of_edges())\n",
    "print(\"Size of Adjacency matrix after 4th threshold:\\n\", a.adjMat.shape)\n"
   ]
  },
  {
   "cell_type": "markdown",
   "metadata": {},
   "source": [
    "The options for local thresholding are similar. Note that a local thresholding always yield a connected graph, and in the case where no arguments are passed, the graph will be the Minimum Spanning Tree. Local thresholding can be very slow for bigger matrices because in each step it is adding successive N-nearest neighbour degree graphs."
   ]
  },
  {
   "cell_type": "code",
   "execution_count": 5,
   "metadata": {},
   "outputs": [
    {
     "name": "stdout",
     "output_type": "stream",
     "text": [
      "Is the graph connected?  True\n",
      "Is the graph connected?  True\n",
      "Is the graph connected?  True\n"
     ]
    }
   ],
   "source": [
    "a.localThresholding()\n",
    "print(\"Is the graph connected? \", mbt.nx.is_connected(a.G))\n",
    "\n",
    "a.localThresholding(thresholdType=\"edgePC\", value = 5)\n",
    "print(\"Is the graph connected? \", mbt.nx.is_connected(a.G))\n",
    "\n",
    "a.localThresholding(thresholdType=\"totalEdges\", value = 10000)\n",
    "print(\"Is the graph connected? \", mbt.nx.is_connected(a.G))"
   ]
  },
  {
   "cell_type": "markdown",
   "metadata": {},
   "source": [
    "## Binary Graphs\n",
    "If necessary the graph can be binarised so that weights are removed. You can see that essentially this means that each edge will have a weight of 1."
   ]
  },
  {
   "cell_type": "code",
   "execution_count": 6,
   "metadata": {},
   "outputs": [
    {
     "name": "stdout",
     "output_type": "stream",
     "text": [
      "Do all the edges have weight of 1? True\n"
     ]
    }
   ],
   "source": [
    "a.binarise()\n",
    "print(\"Do all the edges have weight of 1?\", all(e[2]['weight'] >= 0.5 for e in a.G.edges(data=True)))"
   ]
  },
  {
   "cell_type": "markdown",
   "metadata": {},
   "source": [
    "## Importing 3D Spatial Information\n",
    "\n",
    "You can add spatial info to each node of your graph. You need this information if you want to use the visualisation tools of Maybrain.\n",
    "\n",
    "To do so, provide Maybrain with a file that has 4 columns: an anatomical label, and x, y and z coordinates. e.g.:\n",
    "```\n",
    "0 70.800000 30.600000 53.320000\n",
    "1 32.064909 62.154158 69.707911\n",
    "2 59.870968 92.230014 41.552595\n",
    "3 19.703504 66.398922 52.878706\n",
    "```\n",
    "\n",
    "Ideally these values would be in MNI space (this makes it easier to import background images for plotting and for some other functions), but this is not absolutely necessary.\n",
    "\n",
    "We are using [this file](https://github.com/RittmanResearch/maybrain/blob/master/docs/data/parcel_500.txt) in these examples:"
   ]
  },
  {
   "cell_type": "code",
   "execution_count": 7,
   "metadata": {},
   "outputs": [
    {
     "name": "stdout",
     "output_type": "stream",
     "text": [
      "Attributes:  {} / {}\n",
      "Attributes of one node:  0 / (70.8, 30.6, 53.32)\n"
     ]
    }
   ],
   "source": [
    "# Initially, you don't have anatomical/spatial attributes in each node:\n",
    "print(\"Attributes: \", mbt.nx.get_node_attributes(a.G, \"anatlabel\"), \"/\", mbt.nx.get_node_attributes(a.G, \"xyz\"))\n",
    "\n",
    "#After calling importSpatialInfo(), you can see the node's attributes\n",
    "a.importSpatialInfo(\"data/parcel_500.txt\")\n",
    "print(\"Attributes of one node: \", \n",
    "      mbt.nx.get_node_attributes(a.G, \"anatlabel\")[0], \n",
    "      \"/\", \n",
    "      mbt.nx.get_node_attributes(a.G, \"xyz\")[0])"
   ]
  }
 ],
 "metadata": {
  "kernelspec": {
   "display_name": "Python 3",
   "language": "python",
   "name": "python3"
  },
  "language_info": {
   "codemirror_mode": {
    "name": "ipython",
    "version": 3
   },
   "file_extension": ".py",
   "mimetype": "text/x-python",
   "name": "python",
   "nbconvert_exporter": "python",
   "pygments_lexer": "ipython3",
   "version": "3.5.4"
  }
 },
 "nbformat": 4,
 "nbformat_minor": 2
}
