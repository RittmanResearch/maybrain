{
 "cells": [
  {
   "cell_type": "markdown",
   "metadata": {},
   "source": [
    "# Other Maybrain Functionalities\n",
    "\n",
    "Maybrain also offers some other functionalities that you might find useful.\n",
    "\n",
    "Let's start by initialising a brainObj:"
   ]
  },
  {
   "cell_type": "code",
   "execution_count": 1,
   "metadata": {},
   "outputs": [],
   "source": [
    "from maybrain import brainObj as mbt\n",
    "a = mbt.brainObj()\n",
    "a.importAdjFile(\"data/mean_500.txt\", delimiter=\",\")\n",
    "a.importSpatialInfo(\"data/parcel_500.txt\")\n",
    "a.applyThreshold()"
   ]
  },
  {
   "cell_type": "markdown",
   "metadata": {},
   "source": [
    "## Updating the Adjacency Matrix\n",
    "\n",
    "After working directly with the *networkX* `G` object which you have inside *brainObj*, you can directly update your original adjacency matrix, by getting the values from `G`.\n",
    "\n",
    "One way is to choose a specific edge to update:"
   ]
  },
  {
   "cell_type": "code",
   "execution_count": 2,
   "metadata": {},
   "outputs": [
    {
     "name": "stdout",
     "output_type": "stream",
     "text": [
      "Old value at edge (2,2):  0.0\n",
      "New value at edge (2,2):  5.0\n"
     ]
    }
   ],
   "source": [
    "print(\"Old value at edge (2,2): \", a.adjMat[2][2])\n",
    "#Updating G with dump edge\n",
    "a.G.add_edge(2,2, weight=5)\n",
    "a.updateAdjMat((2,2))\n",
    "print(\"New value at edge (2,2): \", a.adjMat[2][2])\n"
   ]
  },
  {
   "cell_type": "markdown",
   "metadata": {},
   "source": [
    "You can also update the whole adjacency matrix at once. Note that in our `G` object there is no edge between a node to itself thus, when reconstructing the adjacency matrix, that value will be `nan`:"
   ]
  },
  {
   "cell_type": "code",
   "execution_count": 3,
   "metadata": {},
   "outputs": [
    {
     "name": "stdout",
     "output_type": "stream",
     "text": [
      "Weight of edge (0,0) in adjMat:  0.0\n",
      "Weight of edge (0,0) in adjMat after reconstructing:  nan\n"
     ]
    }
   ],
   "source": [
    "print(\"Weight of edge (0,0) in adjMat: \", a.adjMat[0][0])\n",
    "a.reconstructAdjMat()\n",
    "print(\"Weight of edge (0,0) in adjMat after reconstructing: \", a.adjMat[0][0])"
   ]
  },
  {
   "cell_type": "markdown",
   "metadata": {},
   "source": [
    "## Removing Unconnected Nodes\n",
    "\n",
    "After a while you might have some nodes in `G` which are not connected to any other node. You can remove those nodes:"
   ]
  },
  {
   "cell_type": "code",
   "execution_count": 4,
   "metadata": {},
   "outputs": [
    {
     "name": "stdout",
     "output_type": "stream",
     "text": [
      "Number of nodes:  500\n",
      "Number of nodes after remove:  2\n"
     ]
    }
   ],
   "source": [
    "# Import adjacency file again because adjMat was altered before\n",
    "a.importAdjFile(\"data/mean_500.txt\", delimiter=\",\")\n",
    "a.applyThreshold(thresholdType=\"totalEdges\", value = 1)\n",
    "\n",
    "print(\"Number of nodes: \", a.G.number_of_nodes())\n",
    "a.removeUnconnectedNodes()\n",
    "print(\"Number of nodes after remove: \", a.G.number_of_nodes())"
   ]
  },
  {
   "cell_type": "markdown",
   "metadata": {},
   "source": [
    "## Information about Percentages\n",
    "\n",
    "Imagine that you want to know what would be the ratio between the edges on `adjMat` above a certain threshold value and the total possible edges of `adjMat` (the ones different from `NaN`). This might be useful for you to decide which threshold you might apply later.\n",
    "\n",
    "In our specific matrix, we can verify that we have 124750 possible edges in `adjMat`, and if we applied a threshold of 0.6, we would get 3387 edges:"
   ]
  },
  {
   "cell_type": "code",
   "execution_count": 5,
   "metadata": {},
   "outputs": [
    {
     "name": "stdout",
     "output_type": "stream",
     "text": [
      "Ratio: 0.027150300601202406\n",
      "Total possible edges:  124750\n",
      "Number of edges from a threshold of 0.6:  3387\n",
      "(3387/124750 =  0.027150300601202406 )\n"
     ]
    }
   ],
   "source": [
    "a.importAdjFile(\"data/mean_500.txt\", delimiter=\",\")\n",
    "print(\"Ratio:\", a.thresholdToPercentage(0.6))\n",
    "\n",
    "## Checking the previous result\n",
    "# Creating all possible edges\n",
    "a.applyThreshold() \n",
    "print(\"Total possible edges: \", a.G.number_of_edges())\n",
    "# Getting the edges thresholded with 0.6\n",
    "a.applyThreshold(thresholdType=\"tVal\", value=0.6)\n",
    "print(\"Number of edges from a threshold of 0.6: \", a.G.number_of_edges())\n",
    "\n",
    "print(\"(3387/124750 = \", 3387/124750, \")\")        "
   ]
  },
  {
   "cell_type": "markdown",
   "metadata": {},
   "source": [
    "While `thresholdToPercentage()` is based on values from `adjMat`, we also have another method to calculate a similar ratio from values of the `G` object. This method is `percentConnected()`, and it returns the ratio of the current number of edges in our `G` object and the total number of possible connections. \n",
    "\n",
    "You can see this difference with other aspects. For example, if `adjMat` has *NaN*s, they are not counted in the result of `thresholdToPercentage()`. On the other hand, `percentConnected()` calculates the number of total possible connections, for an unidrected graph, using the following formula:\n",
    "$$\\left (nodes \\times \\left (nodes - 1  \\right )  \\right ) / 2$$\n",
    "This is equivalent to the upper right side of an adjacency matrix, including possible *NaN*s that it might have. "
   ]
  },
  {
   "cell_type": "code",
   "execution_count": 6,
   "metadata": {},
   "outputs": [
    {
     "name": "stdout",
     "output_type": "stream",
     "text": [
      "Ratio:  1.0\n"
     ]
    }
   ],
   "source": [
    "a.applyThreshold()\n",
    "print(\"Ratio: \", a.percentConnected())"
   ]
  },
  {
   "cell_type": "markdown",
   "metadata": {},
   "source": [
    "The previous ratio is equals to 1 because we applied a threshold where we included all the possible edges from `adjMat`, thus everything is connected.\n",
    "\n",
    "We can reach the same ratio value we showed before with `thresholdToPercentage()` if we apply a threshold of 0.6:"
   ]
  },
  {
   "cell_type": "code",
   "execution_count": 7,
   "metadata": {},
   "outputs": [
    {
     "name": "stdout",
     "output_type": "stream",
     "text": [
      "Ratio in a.G after thresholding of 0.6:  0.027150300601202406\n",
      "Total possible edges from G:  124750.0\n",
      "Number of edges in G:  3387\n",
      "(3387/124750 =  0.027150300601202406 )\n"
     ]
    }
   ],
   "source": [
    "a.applyThreshold(thresholdType=\"tVal\", value=0.6)\n",
    "\n",
    "print(\"Ratio in a.G after thresholding of 0.6: \", a.percentConnected())\n",
    "\n",
    "## Checking the previous value\n",
    "nodes = a.G.number_of_nodes()\n",
    "print(\"Total possible edges from G: \", (nodes * (nodes-1)) / 2)\n",
    "print(\"Number of edges in G: \", a.G.number_of_edges())\n",
    "\n",
    "print(\"(3387/124750 = \", 3387/124750, \")\")  "
   ]
  },
  {
   "cell_type": "markdown",
   "metadata": {},
   "source": [
    "## Linked Nodes\n",
    "\n",
    "Looking to the edges of your `G` object you can see which nodes are connected, but you might prefer to have that information in the nodes themselves. \n",
    "\n",
    "With `findLinkedNodes()` you can add a property to each node saying to which other nodes it is connected. You can access that property through `a.LINKED_NODES`."
   ]
  },
  {
   "cell_type": "code",
   "execution_count": 8,
   "metadata": {},
   "outputs": [
    {
     "name": "stdout",
     "output_type": "stream",
     "text": [
      "Our edges are:  [(92, 302), (96, 194), (223, 365), (238, 341), (241, 341)]\n",
      "Node 341 is linked to:  [238, 241]\n",
      "Node 92 is linked to:  [302]\n",
      "Node 1 is linked to:  []  (nothing)\n"
     ]
    }
   ],
   "source": [
    "a.applyThreshold(thresholdType=\"totalEdges\", value=\"5\")\n",
    "print(\"Our edges are: \", a.G.edges())\n",
    "\n",
    "a.findLinkedNodes()\n",
    "\n",
    "#As the graph is undirected, this property works on both directions:\n",
    "print(\"Node 341 is linked to: \", a.G.node[341][a.LINKED_NODES])\n",
    "print(\"Node 92 is linked to: \", a.G.node[92][a.LINKED_NODES])\n",
    "print(\"Node 1 is linked to: \", a.G.node[1][a.LINKED_NODES], \" (nothing)\")"
   ]
  },
  {
   "cell_type": "markdown",
   "metadata": {},
   "source": [
    "## Weights to Distances\n",
    "\n",
    "With a weight, the higher the value the stronger the connection. With a distance, the higher the value the \"weaker\" the connection.\n",
    "\n",
    "If you want to convert the weights of our edges in a way that they can be seen as distances, you just have to use `weightToDistance()`. Note that there is no measurement unit for the distance, as it just a conversion from the weights. \n",
    "\n",
    "Essentially, the value of the maximum weight will be approximately the value of the highest possible distance (if your weights are all positive in the first place). "
   ]
  },
  {
   "cell_type": "code",
   "execution_count": 9,
   "metadata": {},
   "outputs": [
    {
     "name": "stdout",
     "output_type": "stream",
     "text": [
      "Our edges before conversion: \n",
      "(92, 302, {'weight': 1.2896769679245286})\n",
      "(96, 194, {'weight': 1.2930219528301885})\n",
      "(223, 365, {'weight': 1.2869634132075474})\n",
      "(238, 341, {'weight': 1.2818323018867921})\n",
      "(241, 341, {'weight': 1.2753403320754713})\n",
      "Our edges after conversion: \n",
      "(92, 302, {'weight': 1.2896769679245286, 'distance': 0.005344984905659933})\n",
      "(96, 194, {'weight': 1.2930219528301885, 'distance': 0.0020000000000000018})\n",
      "(223, 365, {'weight': 1.2869634132075474, 'distance': 0.0080585396226411365})\n",
      "(238, 341, {'weight': 1.2818323018867921, 'distance': 0.013189650943396414})\n",
      "(241, 341, {'weight': 1.2753403320754713, 'distance': 0.019681620754717244})\n"
     ]
    }
   ],
   "source": [
    "print(\"Our edges before conversion: \")\n",
    "for e in a.G.edges(data=True):\n",
    "    print(e)\n",
    "\n",
    "a.weightToDistance()\n",
    "\n",
    "print(\"Our edges after conversion: \")\n",
    "for e in a.G.edges(data=True):\n",
    "    print(e)"
   ]
  },
  {
   "cell_type": "markdown",
   "metadata": {},
   "source": [
    "You can access weights and distances of specific edges through `a.WEIGHT` and `a.DISTANCE`, respectively:"
   ]
  },
  {
   "cell_type": "code",
   "execution_count": 10,
   "metadata": {},
   "outputs": [
    {
     "name": "stdout",
     "output_type": "stream",
     "text": [
      "Weight of edge (92,302):    1.28967696792\n",
      "Distance of edge (92,302):  0.00534498490566\n"
     ]
    }
   ],
   "source": [
    "print(\"Weight of edge (92,302):   \", a.G.edge[92][302][a.WEIGHT])\n",
    "print(\"Distance of edge (92,302): \", a.G.edge[92][302][a.DISTANCE])"
   ]
  },
  {
   "cell_type": "markdown",
   "metadata": {},
   "source": [
    "## Isosurfaces and Parcels"
   ]
  }
 ],
 "metadata": {
  "kernelspec": {
   "display_name": "Python 3",
   "language": "python",
   "name": "python3"
  },
  "language_info": {
   "codemirror_mode": {
    "name": "ipython",
    "version": 3
   },
   "file_extension": ".py",
   "mimetype": "text/x-python",
   "name": "python",
   "nbconvert_exporter": "python",
   "pygments_lexer": "ipython3",
   "version": "3.5.4"
  }
 },
 "nbformat": 4,
 "nbformat_minor": 2
}
