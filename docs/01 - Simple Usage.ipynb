{
 "cells": [
  {
   "cell_type": "markdown",
   "metadata": {},
   "source": [
    "# Simple Usage\n",
    "\n",
    "## Basic Principles\n",
    "The purpose of Maybrain is to allow easy visualisation of brain connectome and related data and perform various analyses.\n",
    "\n",
    "The code is built around the class **Brain**. It contains all the information about the brain and numerous functions to change, measure and highlight those. At its heart is a *Networkx* object, Brain.G, via which all *Networkx* functions are available.\n",
    "\n",
    "Besides this main class, you have four packages with other modules, **algorithms**, **plotting**, **utils** and **resources**, which will be explained throughout these notebooks.\n",
    "\n",
    "## Data Input\n",
    "Several types of data can be input. The basic connectome is made up of two files: a coordinate file and an adjacency matrix. In fact only the second of these is strictly required.\n",
    "\n",
    "The coordinate file defines the position of each node. It is a text file where each line has four entries: the node index, x, y and z coordinates. e.g.:\n",
    "\n",
    "```\n",
    "0 0.0 3.1 4.4\n",
    "1 5.3 7.6 8.4\n",
    "2 3.2 4.4 3.1\n",
    "```\n",
    "\n",
    "The adjacency matrix defines the strength of connection between each pair of nodes. For n nodes it is an n × n text matrix. Nodes in maybrain are labelled 0,1,... and the order of the rows and columns in the adjacency matrix is assumed to correspond to this. Entering an adjacency matrix with the wrong dimensions will lead to certain doom."
   ]
  },
  {
   "cell_type": "markdown",
   "metadata": {},
   "source": [
    "## Importing Maybrain\n",
    "\n",
    "The main class of maybrain is contained in the `brain` module and can easily be achieved with a normal import."
   ]
  },
  {
   "cell_type": "code",
   "execution_count": 1,
   "metadata": {},
   "outputs": [],
   "source": [
    "from maybrain import brain as mbt"
   ]
  },
  {
   "cell_type": "markdown",
   "metadata": {},
   "source": [
    "## The `constants` module\n",
    "\n",
    "Before going further in explaining Maybrain's functionalities, it is important to briefly refer the `constants` module. This module has some constants which can be used elsewhere, rather than writing the values by hand everywhere being prone to typos. \n",
    "\n",
    "In further notebooks you will see this module being used in practice, but for now, also just a normal import is required:"
   ]
  },
  {
   "cell_type": "code",
   "execution_count": 2,
   "metadata": {},
   "outputs": [
    {
     "name": "stdout",
     "output_type": "stream",
     "text": [
      "weight\n",
      "anatlabel\n"
     ]
    }
   ],
   "source": [
    "from maybrain import constants as ct\n",
    "# Printing some of the constants\n",
    "print(ct.WEIGHT)\n",
    "print(ct.ANAT_LABEL)"
   ]
  },
  {
   "cell_type": "markdown",
   "metadata": {},
   "source": [
    "## The `resources` package\n",
    "\n",
    "Maybrain also have another package that can be useful for different things. In its essence, it is just a package with access to files like matrices, properties, etc. When importing this package, you will have access to different variables in the path for the file in your system.\n",
    "\n",
    "Farther in the documentation you will see this package being used in practice, but for now, also just a normal import is required:"
   ]
  },
  {
   "cell_type": "code",
   "execution_count": 3,
   "metadata": {},
   "outputs": [],
   "source": [
    "from maybrain import resources as rr"
   ]
  },
  {
   "cell_type": "markdown",
   "metadata": {},
   "source": [
    "## Importing an Adjacency Matrix\n",
    "Firstly, create a `Brain` object:"
   ]
  },
  {
   "cell_type": "code",
   "execution_count": 4,
   "metadata": {},
   "outputs": [
    {
     "name": "stdout",
     "output_type": "stream",
     "text": [
      "Nodes:  []\n",
      "Edges:  []\n",
      "Adjacency matrix:  None\n"
     ]
    }
   ],
   "source": [
    "a = mbt.Brain()\n",
    "print(\"Nodes: \", a.G.nodes())\n",
    "print(\"Edges: \", a.G.edges())\n",
    "print(\"Adjacency matrix: \", a.adjMat)"
   ]
  },
  {
   "cell_type": "markdown",
   "metadata": {},
   "source": [
    "This creates a brain object, where a graph (from the package NetworkX) is stored as `a.G`, initially empty. \n",
    "\n",
    "Then import the adjacency matrix. The *import_adj_file()* function imports the adjacency matrix to form the nodes of your graph, but does not create any edges (connections), as you can check from the following outputs.\n",
    "\n",
    "Note the use of the `resources` package. In maybrain you can access a dummy adjacency matrix (500x500) for various reasons; in this case, just for testing purposes."
   ]
  },
  {
   "cell_type": "code",
   "execution_count": 5,
   "metadata": {},
   "outputs": [
    {
     "name": "stdout",
     "output_type": "stream",
     "text": [
      "Number of nodes:\n",
      " 500\n",
      "First 5 nodes (notice labelling starting with 0):\n",
      " [0, 1, 2, 3, 4]\n",
      "Edges:\n",
      " []\n",
      "Size of Adjacency matrix:\n",
      " (500, 500)\n"
     ]
    }
   ],
   "source": [
    "a.import_adj_file(rr.DUMMY_ADJ_FILE_500)\n",
    "\n",
    "print(\"Number of nodes:\\n\", a.G.number_of_nodes())\n",
    "print(\"First 5 nodes (notice labelling starting with 0):\\n\", list(a.G.nodes())[0:5])\n",
    "print(\"Edges:\\n\", a.G.edges())\n",
    "print(\"Size of Adjacency matrix:\\n\", a.adjMat.shape)"
   ]
  },
  {
   "cell_type": "markdown",
   "metadata": {},
   "source": [
    "If you wish to create a fully connected graph with all the available values in the adjacency matrix, it is necessary to threshold it, which is explained in the next section."
   ]
  },
  {
   "cell_type": "markdown",
   "metadata": {},
   "source": [
    "## Thresholding\n",
    "There are a few ways to apply a threshold, either using an absolute threshold across the whole graph to preserve a specified number of edges or percentage of total possible edges; or to apply a local thresholding that begins with the minimum spanning tree and adds successive n-nearest neighbour graphs. The advantage of local thresholding is that the graph will always be fully connected, which is necessary to collect some graph measures.\n",
    "\n",
    "For an absolute threshold you have several possibilities. Note that our adjacency matrix (`a.adjMat`) always stays the same so we can apply all the thresholds we want to create our graph (`a.G`) accordingly. Also notice that in this specific case of an undirected graph, are dealing with a symmetric adjacency matrix, so although `a.adjMat` will always have the size of 500x500, the `a.G` will not."
   ]
  },
  {
   "cell_type": "code",
   "execution_count": 6,
   "metadata": {},
   "outputs": [
    {
     "name": "stdout",
     "output_type": "stream",
     "text": [
      "Number of edges (notice it corresponds to the upper half edges of adjacency matrix):\n",
      " 124750\n",
      "Size of Adjacency matrix after 1st threshold:\n",
      " (500, 500)\n",
      "\n",
      "Number of edges after 2nd threshold:\n",
      " 1000\n",
      "Size of Adjacency matrix after 2nd threshold:\n",
      " (500, 500)\n",
      "\n",
      "Number of edges after 3rd threshold:\n",
      " 6237\n",
      "Size of Adjacency matrix after 3rd threshold:\n",
      " (500, 500)\n",
      "\n",
      "Number of edges after 4th threshold:\n",
      " 34848\n",
      "Size of Adjacency matrix after 4th threshold:\n",
      " (500, 500)\n"
     ]
    }
   ],
   "source": [
    "# Bring everything from the adjacency matrix to a.G\n",
    "a.apply_threshold()\n",
    "print(\"Number of edges (notice it corresponds to the upper half edges of adjacency matrix):\\n\", a.G.number_of_edges())\n",
    "print(\"Size of Adjacency matrix after 1st threshold:\\n\", a.adjMat.shape)\n",
    "\n",
    "# Retain the most strongly connected 1000 edges\n",
    "a.apply_threshold(threshold_type= \"totalEdges\", value = 1000) \n",
    "print(\"\\nNumber of edges after 2nd threshold:\\n\", a.G.number_of_edges())\n",
    "print(\"Size of Adjacency matrix after 2nd threshold:\\n\", a.adjMat.shape)\n",
    "\n",
    "# Retain the 5% most connected edges as a percentage of the total possible number of edges\n",
    "a.apply_threshold(threshold_type = \"edgePC\", value = 5) \n",
    "print(\"\\nNumber of edges after 3rd threshold:\\n\", a.G.number_of_edges())\n",
    "print(\"Size of Adjacency matrix after 3rd threshold:\\n\", a.adjMat.shape)\n",
    "\n",
    "# Retain edges with a weight greater than 0.3\n",
    "a.apply_threshold(threshold_type= \"tVal\", value = 0.3) \n",
    "print(\"\\nNumber of edges after 4th threshold:\\n\", a.G.number_of_edges())\n",
    "print(\"Size of Adjacency matrix after 4th threshold:\\n\", a.adjMat.shape)\n"
   ]
  },
  {
   "cell_type": "markdown",
   "metadata": {},
   "source": [
    "The options for local thresholding are similar. Note that a local thresholding always yield a connected graph, and in the case where no arguments are passed, the graph will be the Minimum Spanning Tree. Local thresholding can be very slow for bigger matrices because in each step it is adding successive N-nearest neighbour degree graphs."
   ]
  },
  {
   "cell_type": "code",
   "execution_count": 7,
   "metadata": {},
   "outputs": [
    {
     "name": "stdout",
     "output_type": "stream",
     "text": [
      "Is the graph connected?  True\n",
      "Is the graph connected?  True\n",
      "Is the graph connected?  True\n"
     ]
    }
   ],
   "source": [
    "a.local_thresholding()\n",
    "print(\"Is the graph connected? \", mbt.nx.is_connected(a.G))\n",
    "\n",
    "a.local_thresholding(threshold_type=\"edgePC\", value = 5)\n",
    "print(\"Is the graph connected? \", mbt.nx.is_connected(a.G))\n",
    "\n",
    "a.local_thresholding(threshold_type=\"totalEdges\", value = 10000)\n",
    "print(\"Is the graph connected? \", mbt.nx.is_connected(a.G))"
   ]
  },
  {
   "cell_type": "markdown",
   "metadata": {},
   "source": [
    "## Absolute Thresholding\n",
    "\n",
    "In a real brain network, an edge with high negative value is as strong as an edge with a high positive value. So, if you want to threshold in order to get the most strongly connected edges (both negative and positive), you just have to pass an argument `use_absolute=True` to `apply_threshold()`.\n",
    "\n",
    "In the case of the brain that we are using in this notebook there are not many negative edges. Thus, we have to threshold the 80% most strongly connected edges in order to see a difference (notice the use of the module `constants` (`ct`) to access the weight property of each edge):"
   ]
  },
  {
   "cell_type": "code",
   "execution_count": 8,
   "metadata": {},
   "outputs": [
    {
     "name": "stdout",
     "output_type": "stream",
     "text": [
      "Edges with negative weight which belong to the 70% strongest ones:\n",
      "(28, 64, {'weight': -0.17897503260377354})\n",
      "(64, 408, {'weight': -0.16721546026415093})\n",
      "(64, 454, {'weight': -0.17173085994339626})\n",
      "\n",
      "Edges with negative weight which belong to the 80% strongest ones:\n",
      "(28, 64, {'weight': -0.17897503260377354})\n",
      "(28, 217, {'weight': -0.11984709196226416})\n",
      "(64, 213, {'weight': -0.14727152767924526})\n",
      "(64, 408, {'weight': -0.16721546026415093})\n",
      "(64, 454, {'weight': -0.17173085994339626})\n",
      "(217, 479, {'weight': -0.11798177724339623})\n"
     ]
    }
   ],
   "source": [
    "# Thresholding the 80% most strongly connected edges\n",
    "a.apply_threshold(threshold_type=\"edgePC\", value=80)\n",
    "for e in a.G.edges(data=True):\n",
    "    # Printing the edges with negative weight\n",
    "    if e[2][ct.WEIGHT] < 0:\n",
    "        print(e) # This line is never executed because a negative weighted edge is not strong enough\n",
    "\n",
    "# Absolute thresholding of the 70% most strongly connected edges \n",
    "print(\"Edges with negative weight which belong to the 70% strongest ones:\")\n",
    "a.apply_threshold(threshold_type=\"edgePC\", value=70, use_absolute=True)\n",
    "for e in a.G.edges(data=True):\n",
    "    if e[2][ct.WEIGHT] < 0:\n",
    "        print(e)\n",
    "        \n",
    "# Absolute thresholding of the 80% most strongly connected edges \n",
    "print(\"\\nEdges with negative weight which belong to the 80% strongest ones:\")\n",
    "a.apply_threshold(threshold_type=\"edgePC\", value=80, use_absolute=True)\n",
    "for e in a.G.edges(data=True):\n",
    "    if e[2][ct.WEIGHT] < 0:\n",
    "        print(e)"
   ]
  },
  {
   "cell_type": "markdown",
   "metadata": {},
   "source": [
    "## Binary and Absolute Graphs\n",
    "\n",
    "If necessary the graph can be binarised so that weights are removed. You can see that essentially this means that each edge will have a weight of 1."
   ]
  },
  {
   "cell_type": "code",
   "execution_count": 9,
   "metadata": {},
   "outputs": [
    {
     "name": "stdout",
     "output_type": "stream",
     "text": [
      "Do all the edges have weight of 1? True\n"
     ]
    }
   ],
   "source": [
    "a.binarise()\n",
    "print(\"Do all the edges have weight of 1?\", all(e[2][ct.WEIGHT] == 1 for e in a.G.edges(data=True)))"
   ]
  },
  {
   "cell_type": "markdown",
   "metadata": {},
   "source": [
    "Also, you can make all the weights to have an absolute value, instead of negative and positive values:"
   ]
  },
  {
   "cell_type": "code",
   "execution_count": 10,
   "metadata": {},
   "outputs": [
    {
     "name": "stdout",
     "output_type": "stream",
     "text": [
      "Do all the edges have a positive weight before? False\n",
      "Do all the edges have a positive weight? True\n"
     ]
    }
   ],
   "source": [
    "# Applying threshold again because of last changes\n",
    "a.apply_threshold()\n",
    "print(\"Do all the edges have a positive weight before?\", all(e[2][ct.WEIGHT] >= 0 for e in a.G.edges(data=True)))\n",
    "a.make_edges_absolute()\n",
    "print(\"Do all the edges have a positive weight?\", all(e[2][ct.WEIGHT] >= 0 for e in a.G.edges(data=True)))"
   ]
  },
  {
   "cell_type": "markdown",
   "metadata": {},
   "source": [
    "## Importing 3D Spatial Information\n",
    "\n",
    "You can add spatial info to each node of your graph. You need this information if you want to use the visualisation tools of Maybrain.\n",
    "\n",
    "To do so, provide Maybrain with a file that has 4 columns: an anatomical label, and x, y and z coordinates. e.g.:\n",
    "```\n",
    "0 70.800000 30.600000 53.320000\n",
    "1 32.064909 62.154158 69.707911\n",
    "2 59.870968 92.230014 41.552595\n",
    "3 19.703504 66.398922 52.878706\n",
    "```\n",
    "\n",
    "Ideally these values would be in MNI space (this makes it easier to import background images for plotting and for some other functions), but this is not absolutely necessary.\n",
    "\n",
    "We are using the `resources` package again to get an already prepated text file with spatial information for a brain with 500 regions in the MNI template:"
   ]
  },
  {
   "cell_type": "code",
   "execution_count": 11,
   "metadata": {},
   "outputs": [
    {
     "name": "stdout",
     "output_type": "stream",
     "text": [
      "Attributes:  {} / {}\n",
      "Attributes of one node:  1 / (-53.6, -62.8, 36.64)\n"
     ]
    }
   ],
   "source": [
    "# Initially, you don't have anatomical/spatial attributes in each node:\n",
    "print(\"Attributes: \", mbt.nx.get_node_attributes(a.G, ct.ANAT_LABEL), \"/\", mbt.nx.get_node_attributes(a.G, ct.XYZ))\n",
    "\n",
    "#After calling import_spatial_info(), you can see the node's attributes\n",
    "a.import_spatial_info(rr.MNI_SPACE_COORDINATES_500)\n",
    "print(\"Attributes of one node: \", \n",
    "      mbt.nx.get_node_attributes(a.G, ct.ANAT_LABEL)[0], \n",
    "      \"/\", \n",
    "      mbt.nx.get_node_attributes(a.G, ct.XYZ)[0])"
   ]
  },
  {
   "cell_type": "markdown",
   "metadata": {},
   "source": [
    "## Properties in Nodes and Edges\n",
    "\n",
    "We have seen already that nodes can have properties about spatial information after calling `import_spatial_info()`, and edges can have properties about weight after calling applying thresholds. \n",
    "\n",
    "You can add properties\n",
    "to nodes or edges from a text file. The format should be as follows:\n",
    "\n",
    "```\n",
    "property\n",
    "node1 value\n",
    "node2 value2\n",
    "(...)\n",
    "node1 node2 value1\n",
    "node3 node4 value2\n",
    "(...)\n",
    "```\n",
    "Let's give a specific example. Imagine that you want to add properties about colours. You can use [this file](https://github.com/RittmanResearch/maybrain/blob/master/docs/data/3d_grid_properties.txt), which is transcribed here:\n",
    "\n",
    "```\n",
    "colour\n",
    "1 red\n",
    "3 red\n",
    "6 green\n",
    "0 blue\n",
    "1 3 green\n",
    "1 2 green\n",
    "1 0 grey\n",
    "2 3 green\n",
    "2 0 red\n",
    "3 0 green\n",
    "```\n",
    "\n",
    "Note that the first line contains the property name. Subsequent lines refer to edges if they contain 3 terms and nodes if they contain 2. The above will give node 1 the property `'colour'` with value `'red'` and node 6 the property `'colour'` with value `'green'`. Nodes 0 and 3 will also have the property `'colour'` but with value `'blue'` and `'red'`, respectively.\n",
    "\n",
    "The edge connecting nodes 1 and 3 will have the same property with value `'green'`. All the other 5 edges will have the same property but with different values. These properties are stored in the `G` object from networkx.\n",
    "\n",
    "\n",
    "In order to be easier to see the properties features, we will be importing a shorter matrix with just 4 nodes ([link here](https://github.com/RittmanResearch/maybrain/blob/master/docs/data/3d_grid_adj.txt)).\n",
    "\n",
    "From the following code you can see that a warning is printed because we tried to add a property to a node `6`, which doesn't exist. However, the other properties are added. \n",
    "\n",
    "Note the fact that as the brain is not directed, adding the property to the edge `(1,0)` is considered as adding to the edge `(0,1)`. The same thing happens with edges `(2,0)` and `(3,0)`. No property was imported to node `2` because it is not specified in the properties file."
   ]
  },
  {
   "cell_type": "code",
   "execution_count": 12,
   "metadata": {},
   "outputs": [
    {
     "name": "stdout",
     "output_type": "stream",
     "text": [
      "Edges and nodes information:\n",
      "(0, 1, {'weight': 0.60080034391699999})\n",
      "(0, 2, {'weight': 0.203602458588})\n",
      "(0, 3, {'weight': 0.16390494700200001})\n",
      "(1, 2, {'weight': 0.84379894778099995})\n",
      "(1, 3, {'weight': 0.242747996199})\n",
      "(2, 3, {'weight': 0.63727884848299998})\n",
      "(0, {})\n",
      "(1, {})\n",
      "(2, {})\n",
      "(3, {})\n",
      "\n",
      "Importing properties...\n",
      "Warning! Unable to process property ['colour', 6, 'green']\n",
      "\n",
      "Edges and nodes information after importing properties:\n",
      "(0, 1, {'colour': 'grey', 'weight': 0.60080034391699999})\n",
      "(0, 2, {'colour': 'red', 'weight': 0.203602458588})\n",
      "(0, 3, {'colour': 'green', 'weight': 0.16390494700200001})\n",
      "(1, 2, {'colour': 'green', 'weight': 0.84379894778099995})\n",
      "(1, 3, {'colour': 'green', 'weight': 0.242747996199})\n",
      "(2, 3, {'colour': 'green', 'weight': 0.63727884848299998})\n",
      "(0, {'colour': 'blue'})\n",
      "(1, {'colour': 'red'})\n",
      "(2, {})\n",
      "(3, {'colour': 'red'})\n"
     ]
    }
   ],
   "source": [
    "# Creating a new Brain and importing the shorter adjacency matrix\n",
    "b = mbt.Brain()\n",
    "b.import_adj_file(\"data/3d_grid_adj.txt\")\n",
    "b.apply_threshold()\n",
    "\n",
    "print(\"Edges and nodes information:\")\n",
    "for e in b.G.edges(data=True):\n",
    "    print(e)\n",
    "for n in b.G.nodes(data=True):\n",
    "    print(n)\n",
    "\n",
    "# Importing properties and showing again edges and nodes\n",
    "print(\"\\nImporting properties...\")\n",
    "b.import_properties(\"data/3d_grid_properties.txt\")\n",
    "\n",
    "print(\"\\nEdges and nodes information after importing properties:\")\n",
    "for e in b.G.edges(data=True):\n",
    "    print(e)\n",
    "for n in b.G.nodes(data=True):\n",
    "    print(n)\n"
   ]
  },
  {
   "cell_type": "markdown",
   "metadata": {},
   "source": [
    "You can notice that if we threshold our brain again, edges are created from scratch and thus properties are lost. The same doesn't happen with nodes as they are always present in our `G` object.\n",
    "\n",
    "By default, properties **of the edges** are not imported everytime you threshold the brain. However, you can change that behaviour by setting the field `update_properties_after_threshold` to True."
   ]
  },
  {
   "cell_type": "code",
   "execution_count": 13,
   "metadata": {},
   "outputs": [
    {
     "name": "stdout",
     "output_type": "stream",
     "text": [
      "Edges information:\n",
      "(0, 1, {'weight': 0.60080034391699999})\n",
      "(0, 2, {'weight': 0.203602458588})\n",
      "(0, 3, {'weight': 0.16390494700200001})\n",
      "(1, 2, {'weight': 0.84379894778099995})\n",
      "(1, 3, {'weight': 0.242747996199})\n",
      "(2, 3, {'weight': 0.63727884848299998})\n",
      "\n",
      "Setting b.update_properties_after_threshold and rethresholding again...\n",
      "Warning! Unable to process property ['colour', 6, 'green']\n",
      "\n",
      "Edges information again:\n",
      "(0, 1, {'colour': 'grey', 'weight': 0.60080034391699999})\n",
      "(0, 2, {'colour': 'red', 'weight': 0.203602458588})\n",
      "(0, 3, {'colour': 'green', 'weight': 0.16390494700200001})\n",
      "(1, 2, {'colour': 'green', 'weight': 0.84379894778099995})\n",
      "(1, 3, {'colour': 'green', 'weight': 0.242747996199})\n",
      "(2, 3, {'colour': 'green', 'weight': 0.63727884848299998})\n"
     ]
    }
   ],
   "source": [
    "# Rethresholding the brain, thus loosing information\n",
    "b.apply_threshold(threshold_type=\"totalEdges\", value=0)\n",
    "b.apply_threshold()\n",
    "\n",
    "print(\"Edges information:\")\n",
    "for e in b.G.edges(data=True):\n",
    "    print(e)\n",
    "\n",
    "# Setting field to allow automatic importing of properties after a threshold\n",
    "print(\"\\nSetting b.update_properties_after_threshold and rethresholding again...\")\n",
    "b.apply_threshold(threshold_type=\"totalEdges\", value=0)\n",
    "b.update_properties_after_threshold = True\n",
    "b.apply_threshold() # Now, warning is thrown just like before\n",
    "\n",
    "print(\"\\nEdges information again:\")\n",
    "for e in b.G.edges(data=True):\n",
    "    print(e)"
   ]
  },
  {
   "cell_type": "markdown",
   "metadata": {},
   "source": [
    "\n",
    "You can also import the properties from a dictionary, both for nodes and edges. In the following example there are two dictionaries being created with the values of a certain property, named `own_property`, that will be added to brain:"
   ]
  },
  {
   "cell_type": "code",
   "execution_count": 14,
   "metadata": {},
   "outputs": [
    {
     "name": "stdout",
     "output_type": "stream",
     "text": [
      "\n",
      "Edges information:\n",
      "(0, 1, {'colour': 'grey', 'own_property': 'edge_val1', 'weight': 0.60080034391699999})\n",
      "(0, 2, {'colour': 'red', 'weight': 0.203602458588})\n",
      "(0, 3, {'colour': 'green', 'weight': 0.16390494700200001})\n",
      "(1, 2, {'colour': 'green', 'weight': 0.84379894778099995})\n",
      "(1, 3, {'colour': 'green', 'weight': 0.242747996199})\n",
      "(2, 3, {'colour': 'green', 'own_property': 'edge_val2', 'weight': 0.63727884848299998})\n",
      "\n",
      "Nodes information:\n",
      "(0, {'colour': 'blue', 'own_property': 'val1'})\n",
      "(1, {'colour': 'red', 'own_property': 'val2'})\n",
      "(2, {})\n",
      "(3, {'colour': 'red'})\n"
     ]
    }
   ],
   "source": [
    "nodes_props = {0: \"val1\", 1: \"val2\"}\n",
    "edges_props = {(0, 1): \"edge_val1\", (2,3): \"edge_val2\"}\n",
    "\n",
    "b.import_edge_properties_from_dict(\"own_property\", edges_props)\n",
    "b.import_node_properties_from_dict(\"own_property\", nodes_props)\n",
    "\n",
    "print(\"\\nEdges information:\")\n",
    "for e in b.G.edges(data=True):\n",
    "    print(e)\n",
    "    \n",
    "print(\"\\nNodes information:\")\n",
    "for n in b.G.nodes(data=True):\n",
    "    print(n)"
   ]
  }
 ],
 "metadata": {
  "kernelspec": {
   "display_name": "Python 3",
   "language": "python",
   "name": "python3"
  },
  "language_info": {
   "codemirror_mode": {
    "name": "ipython",
    "version": 3
   },
   "file_extension": ".py",
   "mimetype": "text/x-python",
   "name": "python",
   "nbconvert_exporter": "python",
   "pygments_lexer": "ipython3",
   "version": "3.5.4"
  }
 },
 "nbformat": 4,
 "nbformat_minor": 2
}
